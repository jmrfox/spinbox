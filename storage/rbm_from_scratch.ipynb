{
 "cells": [
  {
   "cell_type": "code",
   "execution_count": 1,
   "metadata": {},
   "outputs": [],
   "source": [
    "from spinbox import *\n",
    "from spinbox.extras import pmat\n",
    "seeder = itertools.count(0,1)"
   ]
  },
  {
   "cell_type": "code",
   "execution_count": 19,
   "metadata": {},
   "outputs": [
    {
     "name": "stdout",
     "output_type": "stream",
     "text": [
      "[[-0.14355184-0.17209405j]]\n",
      "[[-0.14355184-0.17209405j]]\n"
     ]
    }
   ],
   "source": [
    "isospin = True\n",
    "n_particles = 2\n",
    "\n",
    "dt = 0.01\n",
    "\n",
    "coupling = -1\n",
    "\n",
    "y = HilbertState(n_particles, isospin=isospin).randomize(seed=next(seeder))\n",
    "yp = HilbertState(n_particles, isospin=isospin, ketwise=False).randomize(seed=next(seeder))\n",
    "\n",
    "op_i = HilbertOperator(n_particles, isospin=isospin).apply_sigma(0,0)\n",
    "op_j = HilbertOperator(n_particles, isospin=isospin).apply_sigma(1,1)\n",
    "prop_exact = (op_i * op_j).scale(- dt * 0.5 * coupling).exp()\n",
    "\n",
    "print(yp * prop_exact * y)\n",
    "\n",
    "def a2b_factors(coupling:float) -> tuple:\n",
    "    if not (np.real(coupling)==0. or np.imag(coupling)==0.):\n",
    "        raise ValueError(\"coupling should be entirely real or imaginary\")\n",
    "    z = dt * 0.5 * coupling\n",
    "    n = cexp(-abs(z))\n",
    "    w = carctanh(csqrt(ctanh(abs(z))))\n",
    "    s = z/abs(z)\n",
    "    return n, w, s\n",
    "\n",
    "n,w,s = a2b_factors(coupling)\n",
    "\n",
    "kernel = lambda h : (op_i-op_j.scale(s)).scale(w*(2*h-1)).exp()\n",
    "\n",
    "prop_rbm = (kernel(0) + kernel(1)).scale(n/2)\n",
    "\n",
    "print(yp * prop_rbm * y)"
   ]
  },
  {
   "cell_type": "code",
   "execution_count": null,
   "metadata": {},
   "outputs": [],
   "source": []
  }
 ],
 "metadata": {
  "kernelspec": {
   "display_name": ".venv",
   "language": "python",
   "name": "python3"
  },
  "language_info": {
   "codemirror_mode": {
    "name": "ipython",
    "version": 3
   },
   "file_extension": ".py",
   "mimetype": "text/x-python",
   "name": "python",
   "nbconvert_exporter": "python",
   "pygments_lexer": "ipython3",
   "version": "3.11.0"
  }
 },
 "nbformat": 4,
 "nbformat_minor": 2
}
