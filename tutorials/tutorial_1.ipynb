{
 "cells": [
  {
   "cell_type": "code",
   "execution_count": 6,
   "metadata": {},
   "outputs": [],
   "source": [
    "from spinbox import *\n",
    "from itertools import count\n",
    "seeder = count(0,1) # generates a list of counting numbers for rng \"seeds\" (not really seeds in Numpy, but indices of seeds)\n",
    "\n",
    "def npr(name, thing):\n",
    "    print(name,\"\\n\",thing,\"\\n\"+16*\"-\")"
   ]
  },
  {
   "cell_type": "markdown",
   "metadata": {},
   "source": [
    "# Tutorial 1 : Simple calculations in the full Hilbert space\n",
    "\n",
    "For GFMC-style calculations one should use `HilbertState` and `HilbertOperator` classes, named as such because the entire basis of the Hilbert space is available. That is, a state is a linear combination of tensor product states.\n",
    "\n",
    "To start, let's instantiate some random GFMC-style states for a 2-particle system with just spin (no isospin) and compute stuff with them."
   ]
  },
  {
   "cell_type": "code",
   "execution_count": 7,
   "metadata": {},
   "outputs": [
    {
     "name": "stdout",
     "output_type": "stream",
     "text": [
      "HilbertState ket of 2 particles:\n",
      "[[ 0.06750061-0.2875841j ]\n",
      " [-0.07092296+0.19412905j]\n",
      " [ 0.34382285+0.70007675j]\n",
      " [ 0.05631758+0.50845808j]]\n"
     ]
    }
   ],
   "source": [
    "ket_1 = HilbertState(n_particles=2, ketwise=True, isospin=False).random(seed=next(seeder))\n",
    "print(ket_1)"
   ]
  },
  {
   "cell_type": "markdown",
   "metadata": {},
   "source": [
    "We have instatiated a random complex-values vector with 4 components corresponding to the states $|\\uparrow\\uparrow\\rangle, |\\uparrow\\downarrow\\rangle,|\\downarrow\\uparrow\\rangle,|\\downarrow\\downarrow\\rangle$.\n",
    "\n",
    "Note that `ketwise=True` makes a ket state. Setting this to false makes a bra state. Applying the `.dagger()` method returns the Hermitian conjugate and changes this attribute. \n",
    "\n",
    "We can instatiate another state and do some typical calculations."
   ]
  },
  {
   "cell_type": "code",
   "execution_count": 8,
   "metadata": {},
   "outputs": [
    {
     "name": "stdout",
     "output_type": "stream",
     "text": [
      "HilbertState bra of 2 particles:\n",
      "[[ 0.16769553+0.43932604j  0.39869211+0.2166043j   0.16034536-0.26055781j -0.63236008+0.28198891j]]\n"
     ]
    }
   ],
   "source": [
    "bra_2 = HilbertState(n_particles=2, ketwise=False, isospin=False).random(seed=next(seeder))\n",
    "print(bra_2)"
   ]
  },
  {
   "cell_type": "markdown",
   "metadata": {},
   "source": [
    "We can add and subtract these states."
   ]
  },
  {
   "cell_type": "code",
   "execution_count": 4,
   "metadata": {},
   "outputs": [
    {
     "name": "stdout",
     "output_type": "stream",
     "text": [
      "| state 1 > - | state 1 > =  \n",
      " HilbertState ket of 2 particles:\n",
      "[[0.+0.j]\n",
      " [0.+0.j]\n",
      " [0.+0.j]\n",
      " [0.+0.j]] \n",
      "----------------\n",
      "| state 1 > + | state 2 > =  \n",
      " HilbertState ket of 2 particles:\n",
      "[[ 0.23519615-0.72691013j]\n",
      " [ 0.32776915-0.02247525j]\n",
      " [ 0.50416821+0.96063456j]\n",
      " [-0.57604249+0.22646917j]] \n",
      "----------------\n"
     ]
    }
   ],
   "source": [
    "npr(\"| state 1 > - | state 1 > = \" , ket_1 - ket_1)\n",
    "npr(\"| state 1 > + | state 2 > = \" , ket_1 + bra_2.dagger())"
   ]
  },
  {
   "cell_type": "markdown",
   "metadata": {},
   "source": [
    "The `*` operator does most sensible multiplication. States are normalized by default.\n",
    "\n",
    "You can multiply a state by a scalar number, but the scalar must go on the right, not the left. The reason for this has to do with Python's multiplication methods (I didn't want to define a `__rmul__` method for this)."
   ]
  },
  {
   "cell_type": "code",
   "execution_count": 5,
   "metadata": {},
   "outputs": [
    {
     "name": "stdout",
     "output_type": "stream",
     "text": [
      "HilbertState ket of 2 particles:\n",
      "[[ 0.20250184-0.86275229j]\n",
      " [-0.21276888+0.58238715j]\n",
      " [ 1.03146854+2.10023025j]\n",
      " [ 0.16895275+1.52537425j]]\n"
     ]
    }
   ],
   "source": [
    "print(ket_1 * 3.0) # reversing this order will give an error"
   ]
  },
  {
   "cell_type": "markdown",
   "metadata": {},
   "source": [
    "A bra times a ket returns a scalar. A ket times a bra returns a `HilbertOperator`."
   ]
  },
  {
   "cell_type": "code",
   "execution_count": 6,
   "metadata": {},
   "outputs": [
    {
     "name": "stdout",
     "output_type": "stream",
     "text": [
      "< state 1 | state 1 > =  \n",
      " [[1.+0.j]] \n",
      "----------------\n",
      "< state 2 | state 1 > =  \n",
      " [[0.12588545-0.23951561j]] \n",
      "----------------\n",
      "| state 1 > < state 2 | =  \n",
      " HilbertOperator\n",
      "Re=\n",
      "[[ 0.13766273  0.08920391 -0.06410887  0.03841083]\n",
      " [-0.09717941 -0.07032561  0.03920967 -0.00989339]\n",
      " [-0.24990439 -0.01456018  0.23754086 -0.41483372]\n",
      " [-0.21393467 -0.08768083  0.14151299 -0.17899253]]\n",
      "Im:\n",
      "[[-0.01857179 -0.10003659 -0.06370059  0.20089113]\n",
      " [ 0.00139627  0.0620355   0.04960722 -0.14275895]\n",
      " [ 0.26845007  0.35358859  0.02266833 -0.34574636]\n",
      " [ 0.11000793  0.21491686  0.06685491 -0.30564766]] \n",
      "----------------\n"
     ]
    }
   ],
   "source": [
    "npr(\"< state 1 | state 1 > = \" , ket_1.dagger() * ket_1)\n",
    "npr(\"< state 2 | state 1 > = \" , bra_2 * ket_1)\n",
    "npr(\"| state 1 > < state 2 | = \" , ket_1 * bra_2)"
   ]
  },
  {
   "cell_type": "markdown",
   "metadata": {},
   "source": [
    "This can be used to compute the density matrix for a state, but there is also a method `.density()` that does this."
   ]
  },
  {
   "cell_type": "code",
   "execution_count": 7,
   "metadata": {},
   "outputs": [
    {
     "name": "stdout",
     "output_type": "stream",
     "text": [
      "| state 1 > < state 1 | =  \n",
      " HilbertOperator\n",
      "Re=\n",
      "[[ 0.08726095 -0.06061577 -0.17812269 -0.14242299]\n",
      " [-0.06061577  0.04271615  0.1115203   0.09471228]\n",
      " [-0.17812269  0.1115203   0.60832161  0.37532296]\n",
      " [-0.14242299  0.09471228  0.37532296  0.26170129]]\n",
      "Im:\n",
      "[[ 0.          0.00729249 -0.14613359 -0.05051727]\n",
      " [-0.00729249  0.          0.11639752  0.04699423]\n",
      " [ 0.14613359 -0.11639752  0.         -0.13539287]\n",
      " [ 0.05051727 -0.04699423  0.13539287  0.        ]] \n",
      "----------------\n",
      "diag(| state 1 > < state 1 |) =  \n",
      " (array([ 3.66359243e-17-2.78268792e-18j,  1.00000000e+00-3.19117816e-17j,  1.48775219e-17-2.51248168e-17j, -2.57842133e-17+1.04129088e-17j]), array([[ 0.95537378+0.j        , -0.22837713-0.18736283j, -0.05500913-0.11455024j, -0.17415788+0.20346611j],\n",
      "       [ 0.06344718+0.00763312j,  0.14298396+0.1492372j ,  0.11836996-0.22835441j,  0.82714387+0.j        ],\n",
      "       [ 0.18644293-0.1529596j ,  0.77994975+0.j        , -0.50530291+0.21866344j,  0.11524683+0.24978252j],\n",
      "       [ 0.14907567-0.05287697j,  0.48121428+0.17359179j,  0.7839326 +0.j        , -0.39091215-0.1249726j ]])) \n",
      "----------------\n"
     ]
    }
   ],
   "source": [
    "density = ket_1.density()\n",
    "npr(\"| state 1 > < state 1 | = \" , density)\n",
    "npr(\"diag(| state 1 > < state 1 |) = \", np.linalg.eig(density.coefficients))"
   ]
  },
  {
   "cell_type": "markdown",
   "metadata": {},
   "source": [
    "Since the `__mul__` rule is defined for multiple classes, we can actually have an error for improper multiplication. For simplicity, both ket times ket and bra times bra return this error."
   ]
  },
  {
   "cell_type": "code",
   "execution_count": 8,
   "metadata": {},
   "outputs": [
    {
     "name": "stdout",
     "output_type": "stream",
     "text": [
      "This raises an error.\n"
     ]
    }
   ],
   "source": [
    "try:\n",
    "    print(\"| state 1 > | state 2 > = \" , ket_1 * bra_2.dagger())\n",
    "except:\n",
    "    print(\"This raises an error.\")"
   ]
  },
  {
   "cell_type": "markdown",
   "metadata": {},
   "source": [
    "Finally, we can list multiplications together as usual. "
   ]
  },
  {
   "cell_type": "code",
   "execution_count": 9,
   "metadata": {},
   "outputs": [
    {
     "name": "stdout",
     "output_type": "stream",
     "text": [
      "< state 1 | ( | state 1 > < state 2 | ) | state 2> =  \n",
      " [[1.-4.16333634e-17j]] \n",
      "----------------\n"
     ]
    }
   ],
   "source": [
    "outer_product = ket_1 * bra_2\n",
    "npr(\"< state 1 | ( | state 1 > < state 2 | ) | state 2> = \" , ket_1.dagger() * outer_product * bra_2.dagger())"
   ]
  },
  {
   "cell_type": "markdown",
   "metadata": {},
   "source": [
    "We can make our own operator from scratch too. Operators are always instantiated to the identity. If you want to instantiate to zero, use the `.zero()` method. We can apply the Pauli spin operators to individual particles, and the isospin operators (if the isospin DOFs are included)."
   ]
  },
  {
   "cell_type": "code",
   "execution_count": 10,
   "metadata": {},
   "outputs": [
    {
     "name": "stdout",
     "output_type": "stream",
     "text": [
      "HilbertOperator\n",
      "Re=\n",
      "[[0. 0. 1. 0.]\n",
      " [0. 0. 0. 1.]\n",
      " [1. 0. 0. 0.]\n",
      " [0. 1. 0. 0.]]\n",
      "Im:\n",
      "[[0. 0. 0. 0.]\n",
      " [0. 0. 0. 0.]\n",
      " [0. 0. 0. 0.]\n",
      " [0. 0. 0. 0.]]\n"
     ]
    }
   ],
   "source": [
    "operator = HilbertOperator(n_particles=2, isospin=False).apply_sigma(particle_index=0, dimension=0)\n",
    "print(operator)"
   ]
  },
  {
   "cell_type": "markdown",
   "metadata": {},
   "source": [
    "In the tensor product space formalism, this is the one-body operator $\\hat{\\sigma}_{x} \\otimes I := \\hat{\\sigma}_{1x}$. Note that indices start at zero: particle $i$ is indexed $i-1$.\n",
    "\n",
    "If we include isospin, we can apply $\\tau$ operators too."
   ]
  },
  {
   "cell_type": "code",
   "execution_count": 11,
   "metadata": {},
   "outputs": [
    {
     "name": "stdout",
     "output_type": "stream",
     "text": [
      "HilbertOperator\n",
      "Re=\n",
      "[[ 0.  0.  0.  0.  1.  0.  0.  0.  0.  0.  0.  0.  0.  0.  0.  0.]\n",
      " [ 0.  0.  0.  0.  0.  1.  0.  0.  0.  0.  0.  0.  0.  0.  0.  0.]\n",
      " [ 0.  0.  0.  0.  0.  0. -1.  0.  0.  0.  0.  0.  0.  0.  0.  0.]\n",
      " [ 0.  0.  0.  0.  0.  0.  0. -1.  0.  0.  0.  0.  0.  0.  0.  0.]\n",
      " [ 1.  0.  0.  0.  0.  0.  0.  0.  0.  0.  0.  0.  0.  0.  0.  0.]\n",
      " [ 0.  1.  0.  0.  0.  0.  0.  0.  0.  0.  0.  0.  0.  0.  0.  0.]\n",
      " [ 0.  0. -1.  0.  0.  0.  0.  0.  0.  0.  0.  0.  0.  0.  0.  0.]\n",
      " [ 0.  0.  0. -1.  0.  0.  0.  0.  0.  0.  0.  0.  0.  0.  0.  0.]\n",
      " [ 0.  0.  0.  0.  0.  0.  0.  0.  0.  0.  0.  0.  1.  0.  0.  0.]\n",
      " [ 0.  0.  0.  0.  0.  0.  0.  0.  0.  0.  0.  0.  0.  1.  0.  0.]\n",
      " [ 0.  0.  0.  0.  0.  0.  0.  0.  0.  0.  0.  0.  0.  0. -1.  0.]\n",
      " [ 0.  0.  0.  0.  0.  0.  0.  0.  0.  0.  0.  0.  0.  0.  0. -1.]\n",
      " [ 0.  0.  0.  0.  0.  0.  0.  0.  1.  0.  0.  0.  0.  0.  0.  0.]\n",
      " [ 0.  0.  0.  0.  0.  0.  0.  0.  0.  1.  0.  0.  0.  0.  0.  0.]\n",
      " [ 0.  0.  0.  0.  0.  0.  0.  0.  0.  0. -1.  0.  0.  0.  0.  0.]\n",
      " [ 0.  0.  0.  0.  0.  0.  0.  0.  0.  0.  0. -1.  0.  0.  0.  0.]]\n",
      "Im:\n",
      "[[0. 0. 0. 0. 0. 0. 0. 0. 0. 0. 0. 0. 0. 0. 0. 0.]\n",
      " [0. 0. 0. 0. 0. 0. 0. 0. 0. 0. 0. 0. 0. 0. 0. 0.]\n",
      " [0. 0. 0. 0. 0. 0. 0. 0. 0. 0. 0. 0. 0. 0. 0. 0.]\n",
      " [0. 0. 0. 0. 0. 0. 0. 0. 0. 0. 0. 0. 0. 0. 0. 0.]\n",
      " [0. 0. 0. 0. 0. 0. 0. 0. 0. 0. 0. 0. 0. 0. 0. 0.]\n",
      " [0. 0. 0. 0. 0. 0. 0. 0. 0. 0. 0. 0. 0. 0. 0. 0.]\n",
      " [0. 0. 0. 0. 0. 0. 0. 0. 0. 0. 0. 0. 0. 0. 0. 0.]\n",
      " [0. 0. 0. 0. 0. 0. 0. 0. 0. 0. 0. 0. 0. 0. 0. 0.]\n",
      " [0. 0. 0. 0. 0. 0. 0. 0. 0. 0. 0. 0. 0. 0. 0. 0.]\n",
      " [0. 0. 0. 0. 0. 0. 0. 0. 0. 0. 0. 0. 0. 0. 0. 0.]\n",
      " [0. 0. 0. 0. 0. 0. 0. 0. 0. 0. 0. 0. 0. 0. 0. 0.]\n",
      " [0. 0. 0. 0. 0. 0. 0. 0. 0. 0. 0. 0. 0. 0. 0. 0.]\n",
      " [0. 0. 0. 0. 0. 0. 0. 0. 0. 0. 0. 0. 0. 0. 0. 0.]\n",
      " [0. 0. 0. 0. 0. 0. 0. 0. 0. 0. 0. 0. 0. 0. 0. 0.]\n",
      " [0. 0. 0. 0. 0. 0. 0. 0. 0. 0. 0. 0. 0. 0. 0. 0.]\n",
      " [0. 0. 0. 0. 0. 0. 0. 0. 0. 0. 0. 0. 0. 0. 0. 0.]]\n"
     ]
    }
   ],
   "source": [
    "operator = HilbertOperator(n_particles=2, isospin=True).apply_sigma(particle_index=0, dimension=0).apply_tau(particle_index=1,dimension=2)\n",
    "print(operator)"
   ]
  },
  {
   "cell_type": "markdown",
   "metadata": {},
   "source": [
    "In the tensor product space formalism, this is $\\hat{\\sigma}_{x} \\otimes \\hat{\\tau}_z := \\hat{\\sigma}_{1x}\\hat{\\tau}_{2z}$. \n",
    "\n",
    "In the full Hilbert space, states and operators can be added together to produce states and operators respectively. This is not the case with `ProductState` and `ProductOperator`, which I will get to later.\n",
    "\n",
    "Let's construct the two-body spin interaction operator for our two particles: $\\vec{\\sigma}_1 \\cdot \\vec{\\sigma}_2$."
   ]
  },
  {
   "cell_type": "code",
   "execution_count": 12,
   "metadata": {},
   "outputs": [
    {
     "name": "stdout",
     "output_type": "stream",
     "text": [
      "HilbertOperator\n",
      "Re=\n",
      "[[ 1.  0.  0.  0.]\n",
      " [ 0. -1.  2.  0.]\n",
      " [ 0.  2. -1.  0.]\n",
      " [ 0.  0.  0.  1.]]\n",
      "Im:\n",
      "[[0. 0. 0. 0.]\n",
      " [0. 0. 0. 0.]\n",
      " [0. 0. 0. 0.]\n",
      " [0. 0. 0. 0.]]\n"
     ]
    }
   ],
   "source": [
    "si_dot_sj = HilbertOperator(n_particles=2,isospin=False).zero()\n",
    "for dimension in (0,1,2):\n",
    "    si_dot_sj += HilbertOperator(n_particles=2,isospin=False).apply_sigma(0,dimension).apply_sigma(1,dimension)\n",
    "\n",
    "print(si_dot_sj)"
   ]
  },
  {
   "cell_type": "markdown",
   "metadata": {},
   "source": [
    "We can use the built-in `.exp()` method to exponentiate a `HilbertOperator` via Pade approximant. For instance, making an imaginary-time propagator object from $\\vec{\\sigma}_1 \\cdot \\vec{\\sigma}_2$ might look something like "
   ]
  },
  {
   "cell_type": "code",
   "execution_count": 13,
   "metadata": {},
   "outputs": [
    {
     "name": "stdout",
     "output_type": "stream",
     "text": [
      "HilbertOperator\n",
      "Re=\n",
      "[[0.99500417 0.         0.         0.        ]\n",
      " [0.         0.97517033 0.01983384 0.        ]\n",
      " [0.         0.01983384 0.97517033 0.        ]\n",
      " [0.         0.         0.         0.99500417]]\n",
      "Im:\n",
      "[[-0.09983342  0.          0.          0.        ]\n",
      " [ 0.          0.0978434  -0.19767681  0.        ]\n",
      " [ 0.         -0.19767681  0.0978434   0.        ]\n",
      " [ 0.          0.          0.         -0.09983342]]\n"
     ]
    }
   ],
   "source": [
    "delta_tau = 0.1j\n",
    "propagator = si_dot_sj.scale(-delta_tau).exp()\n",
    "print(propagator)"
   ]
  },
  {
   "cell_type": "markdown",
   "metadata": {},
   "source": [
    "However, `spinbox` has classes for propagators, so you probably want to use those instead!"
   ]
  },
  {
   "cell_type": "markdown",
   "metadata": {},
   "source": []
  }
 ],
 "metadata": {
  "kernelspec": {
   "display_name": ".venv",
   "language": "python",
   "name": "python3"
  },
  "language_info": {
   "codemirror_mode": {
    "name": "ipython",
    "version": 3
   },
   "file_extension": ".py",
   "mimetype": "text/x-python",
   "name": "python",
   "nbconvert_exporter": "python",
   "pygments_lexer": "ipython3",
   "version": "3.11.4"
  }
 },
 "nbformat": 4,
 "nbformat_minor": 2
}
