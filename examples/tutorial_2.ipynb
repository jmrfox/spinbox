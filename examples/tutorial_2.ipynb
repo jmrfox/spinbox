{
 "cells": [
  {
   "cell_type": "code",
   "execution_count": 169,
   "metadata": {},
   "outputs": [],
   "source": [
    "from spinbox import *\n",
    "from itertools import count\n",
    "seeder = count(0,1) # generates a list of counting numbers for rng \"seeds\" (not really seeds in Numpy, but indices of seeds)\n",
    "\n",
    "def npr(name, thing):\n",
    "    print(name,\"\\n\",thing,\"\\n\"+16*\"-\")"
   ]
  },
  {
   "cell_type": "markdown",
   "metadata": {},
   "source": [
    "# Tutorial 2 : Simple calculations in the non-entangled space using product states\n",
    "\n",
    "The classes `ProductState` and `ProductOperator` are analogous to `HilbertState` and `HilbertOperator` but they are individually restricted to tensor products of one-body states and one-body operators respectively.\n",
    "\n",
    "To begin, let's do the same basic calculations we did before. A `ProductState` may be instantiated like so."
   ]
  },
  {
   "cell_type": "code",
   "execution_count": 170,
   "metadata": {},
   "outputs": [
    {
     "name": "stdout",
     "output_type": "stream",
     "text": [
      "ProductState ket of 2 particles: \n",
      "ket #0:\n",
      "[[ 0.18722951-0.79768503j]\n",
      " [-0.19672223+0.53846454j]]\n",
      "ket #1:\n",
      "[[0.36861193+0.75055118j]\n",
      " [0.06037799+0.54511711j]]\n",
      "\n"
     ]
    }
   ],
   "source": [
    "ket_1 = ProductState(n_particles=2, ketwise=True, isospin=False).randomize(seed=next(seeder))\n",
    "print(ket_1)"
   ]
  },
  {
   "cell_type": "markdown",
   "metadata": {},
   "source": [
    "Note that our usual matrix representation is replaced with just the one-body vectors. You can project a `ProductState` into a `HilbertState` by the `.to_full_basis()` method."
   ]
  },
  {
   "cell_type": "code",
   "execution_count": 171,
   "metadata": {},
   "outputs": [
    {
     "name": "stdout",
     "output_type": "stream",
     "text": [
      "HilbertState ket of 2 particles:\n",
      "[[ 0.66771848-0.15351089j]\n",
      " [ 0.4461363 +0.05389939j]\n",
      " [-0.47665936+0.05083436j]\n",
      " [-0.30540393-0.07472524j]]\n"
     ]
    }
   ],
   "source": [
    "print(ket_1.to_full_basis())"
   ]
  },
  {
   "cell_type": "markdown",
   "metadata": {},
   "source": [
    "Addition and subtraction are not allowed for `Product` objects, because in general doing so will not product another `Product` object. \n",
    "We do, however, have scalar multiplication. There are two built-in ways to do it.\n",
    "\n",
    "For a product state $|s_1\\rangle \\otimes |s_2\\rangle$ multiplied by a scalar $c$,\n",
    "\n",
    "$$c (|s_1\\rangle \\otimes |s_2\\rangle) = c|s_1\\rangle \\otimes |s_2\\rangle = |s_1\\rangle \\otimes c |s_2\\rangle = c^{1/A}|s_1\\rangle \\otimes c^{1/A}|s_2\\rangle$$\n",
    "\n",
    "We can either choose a particle to multiply by $c$, or we multiply all of them by $c^{1/A}$."
   ]
  },
  {
   "cell_type": "code",
   "execution_count": 172,
   "metadata": {},
   "outputs": [
    {
     "name": "stdout",
     "output_type": "stream",
     "text": [
      "Multiplying the first particle: \n",
      " ProductState ket of 2 particles: \n",
      "ket #0:\n",
      "[[ 187.22951251-797.68503332j]\n",
      " [-196.72222747+538.46454152j]]\n",
      "ket #1:\n",
      "[[0.36861193+0.75055118j]\n",
      " [0.06037799+0.54511711j]]\n",
      " \n",
      "----------------\n",
      "Multiplying the second particle: \n",
      " ProductState ket of 2 particles: \n",
      "ket #0:\n",
      "[[ 0.18722951-0.79768503j]\n",
      " [-0.19672223+0.53846454j]]\n",
      "ket #1:\n",
      "[[368.61193301+750.55118201j]\n",
      " [ 60.37799402+545.11711023j]]\n",
      " \n",
      "----------------\n",
      "Multiplying all particles: \n",
      " ProductState ket of 2 particles: \n",
      "ket #0:\n",
      "[[ 5.92071705-25.22501561j]\n",
      " [-6.22090305+17.0277439j ]]\n",
      "ket #1:\n",
      "[[11.65653281+23.73451236j]\n",
      " [ 1.90931982+17.2381166j ]]\n",
      " \n",
      "----------------\n"
     ]
    }
   ],
   "source": [
    "c = 1000.0\n",
    "\n",
    "npr(\"Multiplying the first particle:\", ket_1.scale_one(0,c))\n",
    "npr(\"Multiplying the second particle:\", ket_1.scale_one(1,c))\n",
    "npr(\"Multiplying all particles:\", ket_1.scale_all(c))"
   ]
  },
  {
   "cell_type": "markdown",
   "metadata": {},
   "source": [
    "Multiplication is handled in the same way as for `HilbertState`."
   ]
  },
  {
   "cell_type": "code",
   "execution_count": 173,
   "metadata": {},
   "outputs": [
    {
     "name": "stdout",
     "output_type": "stream",
     "text": [
      "< state 1 | state 1 > =  \n",
      " (0.9999999999999999+0j) \n",
      "----------------\n",
      "< state 2 | state 1 > =  \n",
      " (0.0976436722152378-0.0992577246900124j) \n",
      "----------------\n",
      "| state 1 > < state 2 | =  \n",
      " ProductOperator\n",
      "Op 0 Re:\n",
      "[[ 0.58434323  0.37864789]\n",
      " [-0.41250184 -0.29851431]]\n",
      "Op 0 Im:\n",
      "[[-0.07883252 -0.42462983]\n",
      " [ 0.00592682  0.26332491]]\n",
      "Op 1 Re:\n",
      "[[ 0.33643132 -0.58753285]\n",
      " [ 0.20042615 -0.25350879]]\n",
      "Op 1 Im:\n",
      "[[ 0.03210537 -0.48968377]\n",
      " [ 0.09468723 -0.43289161]]\n",
      " \n",
      "----------------\n"
     ]
    }
   ],
   "source": [
    "bra_2 = ProductState(n_particles=2, ketwise=False, isospin=False).randomize(seed=next(seeder))\n",
    "\n",
    "npr(\"< state 1 | state 1 > = \", ket_1.dagger() * ket_1)\n",
    "npr(\"< state 2 | state 1 > = \", bra_2 * ket_1)\n",
    "npr(\"| state 1 > < state 2 | = \" , ket_1 * bra_2)"
   ]
  },
  {
   "cell_type": "markdown",
   "metadata": {},
   "source": [
    "Likewise, the outer product has produced a `ProductOperator` object. The `ProductOperator` behaves analogous to the `HilbertOperator`."
   ]
  },
  {
   "cell_type": "code",
   "execution_count": 174,
   "metadata": {},
   "outputs": [
    {
     "name": "stdout",
     "output_type": "stream",
     "text": [
      "ProductOperator\n",
      "Op 0 Re:\n",
      "[[0. 1.]\n",
      " [1. 0.]]\n",
      "Op 0 Im:\n",
      "[[0. 0.]\n",
      " [0. 0.]]\n",
      "Op 1 Re:\n",
      "[[1. 0.]\n",
      " [0. 1.]]\n",
      "Op 1 Im:\n",
      "[[0. 0.]\n",
      " [0. 0.]]\n",
      "\n"
     ]
    }
   ],
   "source": [
    "operator = ProductOperator(n_particles=2, isospin=False).apply_sigma(particle_index=0, dimension=0) # sigma x on particle 1\n",
    "print(operator)"
   ]
  },
  {
   "cell_type": "markdown",
   "metadata": {},
   "source": [
    "*Example*: Let's use the `ProductState` and `ProductOperator` classes to show that $\\frac{1}{2} (\\vec{\\sigma}_1 \\cdot \\vec{\\sigma}_2 + 1 )$ constitutes an exchange of the spin DOFs between particles.\n",
    "\n",
    "This is a good example calculation because we immediately see the difficulty presented by the sum of operations: $\\hat{\\sigma}_{1x}\\hat{\\sigma}_{2x} + \\hat{\\sigma}_{1y}\\hat{\\sigma}_{2y} + \\hat{\\sigma}_{1z}\\hat{\\sigma}_{2z} + I$. We cannot add these operators together and get a `ProductOperator`. The best way to compute this is to break it into individual brackets, then add those together.\n",
    "\n",
    "$$ \\frac{1}{2} \\left( 1 + \\langle \\psi | \\hat{\\sigma}_{1x}\\hat{\\sigma}_{2x}| \\psi \\rangle + \\langle \\psi |\\hat{\\sigma}_{1y}\\hat{\\sigma}_{2y}| \\psi \\rangle + \\langle \\psi |\\hat{\\sigma}_{1z}\\hat{\\sigma}_{2z}| \\psi \\rangle \\right) =\\langle \\psi | P_{12} | \\psi \\rangle$$\n",
    "\n",
    "The `ProductState` class has a built-in exchange method, which I use here."
   ]
  },
  {
   "cell_type": "code",
   "execution_count": 175,
   "metadata": {},
   "outputs": [
    {
     "name": "stdout",
     "output_type": "stream",
     "text": [
      "< psi | sigma_i . sigma_j + 1 | psi > / 2 =  \n",
      " (0.3515775813505698+0j) \n",
      "----------------\n",
      " < psi | P_ij | psi >  =  \n",
      " (0.3515775813505698+0j) \n",
      "----------------\n"
     ]
    }
   ],
   "source": [
    "# state\n",
    "psi = ProductState(n_particles=2, ketwise=True, isospin=False).randomize(seed=next(seeder))\n",
    "\n",
    "# left hand side\n",
    "lhs = 1.\n",
    "for dimension in (0,1,2):\n",
    "    op = ProductOperator(2, isospin=False).apply_sigma(0,dimension).apply_sigma(1,dimension)\n",
    "    lhs += psi.dagger() * op * psi\n",
    "lhs *= 0.5\n",
    "    \n",
    "# right hand side\n",
    "rhs = psi.dagger() * psi.exchange(0,1)\n",
    "npr(\"< psi | sigma_i . sigma_j + 1 | psi > / 2 = \", lhs)\n",
    "npr(\" < psi | P_ij | psi >  = \", rhs)\n"
   ]
  },
  {
   "cell_type": "markdown",
   "metadata": {},
   "source": [
    "We can check this again with spin and isospin DOFs. The full exchange operator is\n",
    "\n",
    "$$P_{ij} = \\frac{1}{4} (\\vec{\\sigma}_1 \\cdot \\vec{\\sigma}_2 + 1 ) (\\vec{\\tau}_1 \\cdot \\vec{\\tau}_2 + 1 ) = \\frac{1}{4} \\left( 1 + \\sum_\\alpha \\sigma_{1\\alpha}\\sigma_{2\\alpha} + \\sum_\\alpha \\tau_{1\\alpha}\\tau_{2\\alpha} + \\sum_{\\alpha\\beta} \\sigma_{1\\alpha}\\tau_{1\\beta}\\sigma_{2\\alpha}\\tau_{2\\beta} \\right) $$ "
   ]
  },
  {
   "cell_type": "code",
   "execution_count": 176,
   "metadata": {},
   "outputs": [
    {
     "name": "stdout",
     "output_type": "stream",
     "text": [
      "< psi | (sigma_i . sigma_j + 1) (tau_i . tau_j + 1) | psi > / 4 =  \n",
      " (0.08810537032438076-3.751261804793913e-18j) \n",
      "----------------\n",
      " < psi | P_ij | psi >  =  \n",
      " (0.08810537032438082+0j) \n",
      "----------------\n"
     ]
    }
   ],
   "source": [
    "# state\n",
    "psi = ProductState(n_particles=2, ketwise=True, isospin=True).randomize(seed=next(seeder))\n",
    "\n",
    "# left hand side\n",
    "lhs = 1.\n",
    "for a in (0,1,2):\n",
    "    op = ProductOperator(2, isospin=True).apply_sigma(0,a).apply_sigma(1,a)\n",
    "    lhs += psi.dagger() * op * psi\n",
    "for a in (0,1,2):\n",
    "    op = ProductOperator(2, isospin=True).apply_tau(0,a).apply_tau(1,a)\n",
    "    lhs += psi.dagger() * op * psi\n",
    "for a in (0,1,2):\n",
    "    for b in (0,1,2):\n",
    "        op = ProductOperator(2, isospin=True).apply_sigma(0,a).apply_sigma(1,a).apply_tau(0,b).apply_tau(1,b)\n",
    "        lhs += psi.dagger() * op * psi\n",
    "lhs *= 0.25\n",
    "    \n",
    "# right hand side\n",
    "rhs = psi.dagger() * psi.exchange(0,1)\n",
    "npr(\"< psi | (sigma_i . sigma_j + 1) (tau_i . tau_j + 1) | psi > / 4 = \", lhs)\n",
    "npr(\" < psi | P_ij | psi >  = \", rhs)\n"
   ]
  },
  {
   "cell_type": "markdown",
   "metadata": {},
   "source": [
    "A `ProductState` can be projected to the full basis by the `.to_full_basis()` method, which just computes the tensor product and returns a `HilbertState`. The same is true for operator classes. The inverse process is not always possible, since a general state is a linear combination of product states. In otherwords if the `HilbertState` has entanglement, then there is no equivalent `ProductState`. However, I have added a few methods to help illuminate these things.\n",
    "\n",
    "Let's begin with a 3-body product state, then we can entangle the particles by projecting to the full space and applying a two-body operator. "
   ]
  },
  {
   "cell_type": "code",
   "execution_count": 177,
   "metadata": {},
   "outputs": [
    {
     "name": "stdout",
     "output_type": "stream",
     "text": [
      "pure state \n",
      " HilbertState ket of 3 particles:\n",
      "[[ 0.66497576-0.09891649j]\n",
      " [-0.00123622-0.63882083j]\n",
      " [ 0.11492372+0.16853203j]\n",
      " [ 0.17430219-0.08478903j]\n",
      " [-0.00768452-0.17080281j]\n",
      " [-0.16163923-0.01634436j]\n",
      " [ 0.04563134-0.02467863j]\n",
      " [-0.01690479-0.0463053j ]] \n",
      "----------------\n",
      "entangled state \n",
      " HilbertState ket of 3 particles:\n",
      "[[-0.19919328+0.18598239j]\n",
      " [-0.32896006+0.40606688j]\n",
      " [-0.06169102+0.06775356j]\n",
      " [ 0.1044352 -0.30634886j]\n",
      " [ 0.28218477-0.23802532j]\n",
      " [ 0.02725018+0.3974318j ]\n",
      " [-0.13727312+0.05039436j]\n",
      " [-0.19493309-0.43024828j]] \n",
      "----------------\n"
     ]
    }
   ],
   "source": [
    "s_pure = ProductState(n_particles=3, ketwise=True, isospin=False).randomize(seed=next(seeder))\n",
    "s_entangled = HilbertState(n_particles=3, ketwise=True, isospin=False).randomize(seed=next(seeder))\n",
    "\n",
    "npr(\"pure state\",s_pure.to_full_basis())\n",
    "npr(\"entangled state\", s_entangled)"
   ]
  },
  {
   "cell_type": "markdown",
   "metadata": {},
   "source": [
    "The `.nearby_product_state()` method does an optimization routine to find a product state that is close to the `HilbertState`. Applying this to the pure state does not give us back the original, however, because this process is not bijective. While states in the full Hilbert space are more general, we often destroy information in the projection from a product state. Note that we get back a new product state, but it's overlap with the original is nearly 1."
   ]
  },
  {
   "cell_type": "code",
   "execution_count": 178,
   "metadata": {},
   "outputs": [
    {
     "name": "stdout",
     "output_type": "stream",
     "text": [
      "[ 0.55848432 -0.12373871  0.80651942  0.46106324  0.30798256  0.05741234 -0.74611729  0.34072421  0.16012347 -0.33362793 -0.73537755 -0.60089136]\n",
      "Iteration limit reached    (Exit mode 9)\n",
      "            Current function value: 7.140652194263066e-13\n",
      "            Iterations: 1000\n",
      "            Function evaluations: 22498\n",
      "            Gradient evaluations: 1000\n",
      "new product state: \n",
      " ProductState ket of 3 particles: \n",
      "ket #0:\n",
      "[[ 0.86471298-0.51858434j]\n",
      " [-0.10853206-0.23120539j]]\n",
      "ket #1:\n",
      "[[ 0.73996379+0.51092853j]\n",
      " [-0.04164558+0.26953191j]]\n",
      "ket #2:\n",
      "[[ 0.72538292-0.15528672j]\n",
      " [-0.04702299-0.70306566j]]\n",
      " \n",
      "----------------\n",
      "overlap: \n",
      " (0.9999991549790767+2.2042507541453205e-09j) \n",
      "----------------\n"
     ]
    }
   ],
   "source": [
    "s_pure_opt, _ = s_pure.to_full_basis().nearby_product_state(maxiter=1000)\n",
    "npr(\"new product state:\", s_pure_opt)\n",
    "npr(\"overlap:\", s_pure_opt.dagger() * s_pure)"
   ]
  },
  {
   "cell_type": "markdown",
   "metadata": {},
   "source": [
    "You can also use the `.nearest_product_state()` method to repeat this process for a list of seeds, which correspond to different initial conditions. This returns the single closest product state found."
   ]
  },
  {
   "cell_type": "code",
   "execution_count": 179,
   "metadata": {},
   "outputs": [
    {
     "name": "stdout",
     "output_type": "stream",
     "text": [
      "[ 0.07751917 -0.08144947  0.40361418  0.0661113  -0.59597173  0.4023012   0.80398332  0.58392429 -0.44351574 -0.79750779 -0.69343886  0.0459782 ]\n",
      "Iteration limit reached    (Exit mode 9)\n",
      "            Current function value: 2.935799095057073e-12\n",
      "            Iterations: 100\n",
      "            Function evaluations: 1805\n",
      "            Gradient evaluations: 100\n",
      "[ 0.28995658  0.68936483  0.2321024  -0.91535105  0.78842265  0.38872209 -0.45052154  0.48757733  0.2560794   0.20660169  0.0247513   0.47610108]\n",
      "Iteration limit reached    (Exit mode 9)\n",
      "            Current function value: 2.1114827842395726e-13\n",
      "            Iterations: 100\n",
      "            Function evaluations: 1832\n",
      "            Gradient evaluations: 100\n",
      "[ 0.18777303 -0.51920815 -0.16180312 -0.956359    0.76050528  0.48349204 -0.32321892  0.76856601  0.11015439 -0.21694062  0.41309227 -0.13123239]\n",
      "Iteration limit reached    (Exit mode 9)\n",
      "            Current function value: 6.309758410261707e-13\n",
      "            Iterations: 100\n",
      "            Function evaluations: 1755\n",
      "            Gradient evaluations: 100\n",
      "[ 0.52995852 -0.66362084  0.11927153 -0.16196828 -0.69294651 -0.33005089 -0.52452292 -0.06022509 -0.24682032  0.94795586  0.3456496  -0.53983135]\n",
      "Iteration limit reached    (Exit mode 9)\n",
      "            Current function value: 1.5377328213541362e-12\n",
      "            Iterations: 100\n",
      "            Function evaluations: 1754\n",
      "            Gradient evaluations: 100\n",
      "[-0.70034229 -0.18773177  0.68803137  0.27258988 -0.71758107 -0.00227475 -0.6699048   0.15970291 -0.66506443  0.09998451  0.10290311  0.68882739]\n",
      "Optimization terminated successfully    (Exit mode 0)\n",
      "            Current function value: 1.232595164407831e-32\n",
      "            Iterations: 1\n",
      "            Function evaluations: 13\n",
      "            Gradient evaluations: 1\n",
      "[-0.44022844 -0.72702039 -0.1332969   0.22565502  0.66732358  0.06444249 -0.30338139 -0.43081319  0.40185553  0.87739608  0.16022674 -0.72446794]\n",
      "Iteration limit reached    (Exit mode 9)\n",
      "            Current function value: 9.136981681484164e-14\n",
      "            Iterations: 100\n",
      "            Function evaluations: 1793\n",
      "            Gradient evaluations: 100\n",
      "[ 0.39993667  0.6746495  -0.97017408 -0.05242257  0.50427971  0.67262961  0.24828605  0.5685532   0.11017516  0.20946493  0.08891394 -0.5341963 ]\n",
      "Iteration limit reached    (Exit mode 9)\n",
      "            Current function value: 1.0048985904930677e-12\n",
      "            Iterations: 100\n",
      "            Function evaluations: 1673\n",
      "            Gradient evaluations: 100\n",
      "[ 8.95031158e-04  2.17360350e-01 -2.24164500e-01 -7.28243366e-01 -3.64331471e-01 -7.94614610e-01  4.37590955e-02  9.75109644e-01 -4.02480818e-01 -5.07366798e-01  3.92514498e-01  2.85976520e-01]\n",
      "Iteration limit reached    (Exit mode 9)\n",
      "            Current function value: 5.912304285211266e-13\n",
      "            Iterations: 100\n",
      "            Function evaluations: 1883\n",
      "            Gradient evaluations: 100\n",
      "[-0.68060146 -0.52334961 -0.61931309 -0.15998826 -0.94603793 -0.07727464 -0.37479388  0.34988054  0.4353722   0.63348725  0.31395901 -0.02169358]\n",
      "Optimization terminated successfully    (Exit mode 0)\n",
      "            Current function value: 1.0138795045224639e-11\n",
      "            Iterations: 52\n",
      "            Function evaluations: 729\n",
      "            Gradient evaluations: 52\n",
      "[-0.82291047  0.24892194 -0.82069642  0.32509096  0.413879   -0.163825    0.44124929  0.2572067  -0.19539603 -0.42730977 -0.73569333  0.5105104 ]\n",
      "Iteration limit reached    (Exit mode 9)\n",
      "            Current function value: 1.5840125265005554e-11\n",
      "            Iterations: 100\n",
      "            Function evaluations: 1952\n",
      "            Gradient evaluations: 100\n",
      "new product state: \n",
      " ProductState ket of 3 particles: \n",
      "ket #0:\n",
      "[[-0.70034229-0.6699048j ]\n",
      " [-0.18773177+0.15970291j]]\n",
      "ket #1:\n",
      "[[0.68803137-0.66506443j]\n",
      " [0.27258988+0.09998451j]]\n",
      "ket #2:\n",
      "[[-0.71758107+0.10290311j]\n",
      " [-0.00227475+0.68882739j]]\n",
      " \n",
      "----------------\n",
      "overlap: \n",
      " (1+0j) \n",
      "----------------\n"
     ]
    }
   ],
   "source": [
    "seeds = np.arange(10)\n",
    "s_pure_opt = s_pure.to_full_basis().nearest_product_state(seeds)\n",
    "npr(\"new product state:\", s_pure_opt)\n",
    "npr(\"overlap:\", s_pure_opt.dagger() * s_pure)"
   ]
  },
  {
   "cell_type": "markdown",
   "metadata": {},
   "source": [
    "Doing the same with the entangled state should give us some noticable discrepancy due to entanglement. "
   ]
  },
  {
   "cell_type": "code",
   "execution_count": 180,
   "metadata": {},
   "outputs": [
    {
     "name": "stdout",
     "output_type": "stream",
     "text": [
      "[ 0.07751917 -0.08144947  0.40361418  0.0661113  -0.59597173  0.4023012   0.80398332  0.58392429 -0.44351574 -0.79750779 -0.69343886  0.0459782 ]\n",
      "Optimization terminated successfully    (Exit mode 0)\n",
      "            Current function value: 0.011318694673751102\n",
      "            Iterations: 39\n",
      "            Function evaluations: 588\n",
      "            Gradient evaluations: 39\n",
      "[ 0.28995658  0.68936483  0.2321024  -0.91535105  0.78842265  0.38872209 -0.45052154  0.48757733  0.2560794   0.20660169  0.0247513   0.47610108]\n",
      "Optimization terminated successfully    (Exit mode 0)\n",
      "            Current function value: 0.011318694673751788\n",
      "            Iterations: 29\n",
      "            Function evaluations: 380\n",
      "            Gradient evaluations: 29\n",
      "[ 0.18777303 -0.51920815 -0.16180312 -0.956359    0.76050528  0.48349204 -0.32321892  0.76856601  0.11015439 -0.21694062  0.41309227 -0.13123239]\n",
      "Optimization terminated successfully    (Exit mode 0)\n",
      "            Current function value: 0.011318694673753014\n",
      "            Iterations: 57\n",
      "            Function evaluations: 886\n",
      "            Gradient evaluations: 57\n",
      "[ 0.52995852 -0.66362084  0.11927153 -0.16196828 -0.69294651 -0.33005089 -0.52452292 -0.06022509 -0.24682032  0.94795586  0.3456496  -0.53983135]\n",
      "Optimization terminated successfully    (Exit mode 0)\n",
      "            Current function value: 0.011318694673751857\n",
      "            Iterations: 24\n",
      "            Function evaluations: 315\n",
      "            Gradient evaluations: 24\n",
      "[-0.70034229 -0.18773177  0.68803137  0.27258988 -0.71758107 -0.00227475 -0.6699048   0.15970291 -0.66506443  0.09998451  0.10290311  0.68882739]\n",
      "Optimization terminated successfully    (Exit mode 0)\n",
      "            Current function value: 0.011318694673751808\n",
      "            Iterations: 51\n",
      "            Function evaluations: 797\n",
      "            Gradient evaluations: 51\n",
      "[-0.44022844 -0.72702039 -0.1332969   0.22565502  0.66732358  0.06444249 -0.30338139 -0.43081319  0.40185553  0.87739608  0.16022674 -0.72446794]\n",
      "Optimization terminated successfully    (Exit mode 0)\n",
      "            Current function value: 0.011318694673751364\n",
      "            Iterations: 42\n",
      "            Function evaluations: 632\n",
      "            Gradient evaluations: 42\n",
      "[ 0.39993667  0.6746495  -0.97017408 -0.05242257  0.50427971  0.67262961  0.24828605  0.5685532   0.11017516  0.20946493  0.08891394 -0.5341963 ]\n",
      "Optimization terminated successfully    (Exit mode 0)\n",
      "            Current function value: 0.01131869467375127\n",
      "            Iterations: 55\n",
      "            Function evaluations: 893\n",
      "            Gradient evaluations: 55\n",
      "[ 8.95031158e-04  2.17360350e-01 -2.24164500e-01 -7.28243366e-01 -3.64331471e-01 -7.94614610e-01  4.37590955e-02  9.75109644e-01 -4.02480818e-01 -5.07366798e-01  3.92514498e-01  2.85976520e-01]\n",
      "Optimization terminated successfully    (Exit mode 0)\n",
      "            Current function value: 0.01131869467375162\n",
      "            Iterations: 35\n",
      "            Function evaluations: 510\n",
      "            Gradient evaluations: 35\n",
      "[-0.68060146 -0.52334961 -0.61931309 -0.15998826 -0.94603793 -0.07727464 -0.37479388  0.34988054  0.4353722   0.63348725  0.31395901 -0.02169358]\n",
      "Optimization terminated successfully    (Exit mode 0)\n",
      "            Current function value: 0.011318694673752175\n",
      "            Iterations: 40\n",
      "            Function evaluations: 561\n",
      "            Gradient evaluations: 40\n",
      "[-0.82291047  0.24892194 -0.82069642  0.32509096  0.413879   -0.163825    0.44124929  0.2572067  -0.19539603 -0.42730977 -0.73569333  0.5105104 ]\n",
      "Optimization terminated successfully    (Exit mode 0)\n",
      "            Current function value: 0.01131869467375133\n",
      "            Iterations: 44\n",
      "            Function evaluations: 665\n",
      "            Gradient evaluations: 44\n",
      "original entangled state: \n",
      " HilbertState ket of 3 particles:\n",
      "[[-0.19919328+0.18598239j]\n",
      " [-0.32896006+0.40606688j]\n",
      " [-0.06169102+0.06775356j]\n",
      " [ 0.1044352 -0.30634886j]\n",
      " [ 0.28218477-0.23802532j]\n",
      " [ 0.02725018+0.3974318j ]\n",
      " [-0.13727312+0.05039436j]\n",
      " [-0.19493309-0.43024828j]] \n",
      "----------------\n",
      "nearby product state: \n",
      " HilbertState ket of 3 particles:\n",
      "[[ 0.10515782+0.0941868j ]\n",
      " [-0.32600512+0.34299235j]\n",
      " [-0.11320259-0.04303346j]\n",
      " [ 0.1554124 -0.37502005j]\n",
      " [ 0.16277151-0.02560479j]\n",
      " [ 0.06964548+0.5479097j ]\n",
      " [-0.12244589+0.07062428j]\n",
      " [-0.22448402-0.41726282j]] \n",
      "----------------\n",
      "overlap =  \n",
      " [[0.89361065+2.06209208e-09j]] \n",
      "----------------\n"
     ]
    }
   ],
   "source": [
    "s_entangled_opt = s_entangled.nearest_product_state(seeds)\n",
    "npr(\"original entangled state:\", s_entangled)\n",
    "npr(\"nearby product state:\", s_entangled_opt.to_full_basis())\n",
    "npr(\"overlap = \", s_entangled_opt.to_full_basis().dagger() * s_entangled)"
   ]
  },
  {
   "cell_type": "code",
   "execution_count": null,
   "metadata": {},
   "outputs": [],
   "source": []
  }
 ],
 "metadata": {
  "kernelspec": {
   "display_name": ".venv",
   "language": "python",
   "name": "python3"
  },
  "language_info": {
   "codemirror_mode": {
    "name": "ipython",
    "version": 3
   },
   "file_extension": ".py",
   "mimetype": "text/x-python",
   "name": "python",
   "nbconvert_exporter": "python",
   "pygments_lexer": "ipython3",
   "version": "3.11.4"
  }
 },
 "nbformat": 4,
 "nbformat_minor": 2
}
