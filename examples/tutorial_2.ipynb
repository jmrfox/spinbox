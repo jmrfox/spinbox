{
 "cells": [
  {
   "cell_type": "code",
   "execution_count": 1,
   "metadata": {},
   "outputs": [],
   "source": [
    "from spinbox import *\n",
    "from itertools import count\n",
    "seeder = count(0,1) # generates a list of counting numbers for rng \"seeds\" (not really seeds in Numpy, but indices of seeds)"
   ]
  },
  {
   "cell_type": "markdown",
   "metadata": {},
   "source": [
    "# The `spinbox` tutorial\n",
    "## Part 2 : Simple calculations in the non-entangled space using product states\n",
    "\n",
    "The classes `ProductState` and `ProductOperator` are analogous to `HilbertState` and `HilbertOperator` but they are individually restricted to tensor products of one-body states and one-body operators respectively.\n",
    "\n",
    "To begin, let's do the same basic calculations we did before. A `ProductState` may be instantiated like so."
   ]
  },
  {
   "cell_type": "code",
   "execution_count": 2,
   "metadata": {},
   "outputs": [
    {
     "name": "stdout",
     "output_type": "stream",
     "text": [
      "ProductState ket of 2 particles: \n",
      "ket #0:\n",
      "[[ 0.18722951-0.79768503j]\n",
      " [-0.19672223+0.53846454j]]\n",
      "ket #1:\n",
      "[[0.36861193+0.75055118j]\n",
      " [0.06037799+0.54511711j]]\n",
      "\n"
     ]
    }
   ],
   "source": [
    "ket_1 = ProductState(n_particles=2, ketwise=True, isospin=False).randomize(seed=next(seeder))\n",
    "print(ket_1)"
   ]
  },
  {
   "cell_type": "markdown",
   "metadata": {},
   "source": [
    "Note that our usual matrix representation is replaced with just the one-body vectors. You can project a `ProductState` into a `HilbertState` by the `.to_manybody_basis()` method."
   ]
  },
  {
   "cell_type": "code",
   "execution_count": 3,
   "metadata": {},
   "outputs": [
    {
     "name": "stdout",
     "output_type": "stream",
     "text": [
      "HilbertState ket of 2 particles:\n",
      "[[ 0.66771848-0.15351089j]\n",
      " [ 0.4461363 +0.05389939j]\n",
      " [-0.47665936+0.05083436j]\n",
      " [-0.30540393-0.07472524j]]\n"
     ]
    }
   ],
   "source": [
    "print(ket_1.to_manybody_basis())"
   ]
  },
  {
   "cell_type": "markdown",
   "metadata": {},
   "source": [
    "Addition and subtraction are not allowed for `Product` objects, because in general doing so will not product another `Product` object. \n",
    "We do, however, have scalar multiplication. There are two built-in ways to do it.\n",
    "\n",
    "For a product state $|s_1\\rangle \\otimes |s_2\\rangle$ multiplied by a scalar $c$,\n",
    "\n",
    "$$c (|s_1\\rangle \\otimes |s_2\\rangle) = c|s_1\\rangle \\otimes |s_2\\rangle = |s_1\\rangle \\otimes c |s_2\\rangle = c^{1/A}|s_1\\rangle \\otimes c^{1/A}|s_2\\rangle$$\n",
    "\n",
    "We can either choose a particle to multiply by $c$, or we multiply all of them by $c^{1/A}$."
   ]
  },
  {
   "cell_type": "code",
   "execution_count": 4,
   "metadata": {},
   "outputs": [
    {
     "name": "stdout",
     "output_type": "stream",
     "text": [
      "Multiplying the first particle:\n",
      "ProductState ket of 2 particles: \n",
      "ket #0:\n",
      "[[ 187.22951251-797.68503332j]\n",
      " [-196.72222747+538.46454152j]]\n",
      "ket #1:\n",
      "[[0.36861193+0.75055118j]\n",
      " [0.06037799+0.54511711j]]\n",
      "\n",
      "Multiplying the second particle:\n",
      "ProductState ket of 2 particles: \n",
      "ket #0:\n",
      "[[ 0.18722951-0.79768503j]\n",
      " [-0.19672223+0.53846454j]]\n",
      "ket #1:\n",
      "[[368.61193301+750.55118201j]\n",
      " [ 60.37799402+545.11711023j]]\n",
      "\n",
      "Multiplying all particles:\n",
      "ProductState ket of 2 particles: \n",
      "ket #0:\n",
      "[[ 5.92071705-25.22501561j]\n",
      " [-6.22090305+17.0277439j ]]\n",
      "ket #1:\n",
      "[[11.65653281+23.73451236j]\n",
      " [ 1.90931982+17.2381166j ]]\n",
      "\n"
     ]
    }
   ],
   "source": [
    "c = 1000.0\n",
    "print(\"Multiplying the first particle:\")\n",
    "print(ket_1.scale_one(0,c))\n",
    "print(\"Multiplying the second particle:\")\n",
    "print(ket_1.scale_one(1,c))\n",
    "print(\"Multiplying all particles:\")\n",
    "print(ket_1.scale_all(c))"
   ]
  },
  {
   "cell_type": "markdown",
   "metadata": {},
   "source": [
    "Multiplication is handled in the same way as for `HilbertState`."
   ]
  },
  {
   "cell_type": "code",
   "execution_count": 5,
   "metadata": {},
   "outputs": [
    {
     "name": "stdout",
     "output_type": "stream",
     "text": [
      "< state 1 | state 1 > =  (0.9999999999999999+0j)\n",
      "< state 2 | state 1 > =  (0.0976436722152378-0.0992577246900124j)\n",
      "| state 1 > < state 2 | =  ProductOperator\n",
      "Op 0 Re:\n",
      "[[ 0.58434323  0.37864789]\n",
      " [-0.41250184 -0.29851431]]\n",
      "Op 0 Im:\n",
      "[[-0.07883252 -0.42462983]\n",
      " [ 0.00592682  0.26332491]]\n",
      "Op 1 Re:\n",
      "[[ 0.33643132 -0.58753285]\n",
      " [ 0.20042615 -0.25350879]]\n",
      "Op 1 Im:\n",
      "[[ 0.03210537 -0.48968377]\n",
      " [ 0.09468723 -0.43289161]]\n",
      "\n"
     ]
    }
   ],
   "source": [
    "bra_2 = ProductState(n_particles=2, ketwise=False, isospin=False).randomize(seed=next(seeder))\n",
    "\n",
    "print(\"< state 1 | state 1 > = \" , ket_1.dagger() * ket_1)\n",
    "print(\"< state 2 | state 1 > = \" , bra_2 * ket_1)\n",
    "print(\"| state 1 > < state 2 | = \" , ket_1 * bra_2)"
   ]
  },
  {
   "cell_type": "markdown",
   "metadata": {},
   "source": [
    "Likewise, the outer product has produced a `ProductOperator` object. The `ProductOperator` behaves analogous to the `HilbertOperator`."
   ]
  },
  {
   "cell_type": "code",
   "execution_count": 6,
   "metadata": {},
   "outputs": [
    {
     "name": "stdout",
     "output_type": "stream",
     "text": [
      "ProductOperator\n",
      "Op 0 Re:\n",
      "[[0. 1.]\n",
      " [1. 0.]]\n",
      "Op 0 Im:\n",
      "[[0. 0.]\n",
      " [0. 0.]]\n",
      "Op 1 Re:\n",
      "[[1. 0.]\n",
      " [0. 1.]]\n",
      "Op 1 Im:\n",
      "[[0. 0.]\n",
      " [0. 0.]]\n",
      "\n"
     ]
    }
   ],
   "source": [
    "operator = ProductOperator(n_particles=2, isospin=False).apply_sigma(particle_index=0, dimension=0) # sigma x on particle 1\n",
    "print(operator)"
   ]
  },
  {
   "cell_type": "markdown",
   "metadata": {},
   "source": [
    "*Example*: Let's use the `ProductState` and `ProductOperator` classes to show $\\langle \\vec{\\sigma}_1 \\cdot \\vec{\\sigma}_2 \\rangle_\\psi$ is equal to $ \\langle 2P_{12} - 1 \\rangle_\\psi$ for a random state $|\\psi\\rangle$ and the spin exchange operator $P_{12}$.\n",
    "\n",
    "This is a good example calculation because we immediately see the difficulty presented by the sum of operations: $\\hat{\\sigma}_{1x}\\hat{\\sigma}_{2x} + \\hat{\\sigma}_{1y}\\hat{\\sigma}_{2y} + \\hat{\\sigma}_{1z}\\hat{\\sigma}_{2z} + I$. The best way to compute this is to break it into individual brackets, then add those together.\n",
    "\n",
    "$$ \\langle \\psi | \\hat{\\sigma}_{1x}\\hat{\\sigma}_{2x}| \\psi \\rangle + \\langle \\psi |\\hat{\\sigma}_{1y}\\hat{\\sigma}_{2y}| \\psi \\rangle + \\langle \\psi |\\hat{\\sigma}_{1z}\\hat{\\sigma}_{2z}| \\psi \\rangle = 2 \\langle \\psi | P_{12} | \\psi \\rangle + \\langle \\psi | \\psi \\rangle$$\n",
    "\n",
    "The `ProductState` class has a built-in exchange method, which I use here."
   ]
  },
  {
   "cell_type": "code",
   "execution_count": 10,
   "metadata": {},
   "outputs": [
    {
     "name": "stdout",
     "output_type": "stream",
     "text": [
      "< psi | sigma_i . sigma_j | psi > =  (0.9118851662186851+0j)\n",
      "2 < psi | P_ij | psi > - 1 =  (0.9118851662186853+0j)\n"
     ]
    }
   ],
   "source": [
    "# states\n",
    "psi = ProductState(n_particles=2, ketwise=True, isospin=False).randomize(seed=next(seeder))\n",
    "\n",
    "# left hand side\n",
    "lhs = 0.\n",
    "for dimension in (0,1,2):\n",
    "    op = ProductOperator(2, isospin=False).apply_sigma(0,dimension).apply_sigma(1,dimension)\n",
    "    lhs += psi.dagger() * op * psi\n",
    "    \n",
    "# right hand side\n",
    "rhs = 2 * (psi.dagger() * psi.exchange(0,1)) - 1\n",
    "print(\"< psi | sigma_i . sigma_j | psi > = \", lhs)\n",
    "print(\"2 < psi | P_ij | psi > - 1 = \", rhs)\n"
   ]
  },
  {
   "cell_type": "code",
   "execution_count": null,
   "metadata": {},
   "outputs": [],
   "source": []
  },
  {
   "cell_type": "code",
   "execution_count": null,
   "metadata": {},
   "outputs": [],
   "source": []
  }
 ],
 "metadata": {
  "kernelspec": {
   "display_name": ".venv",
   "language": "python",
   "name": "python3"
  },
  "language_info": {
   "codemirror_mode": {
    "name": "ipython",
    "version": 3
   },
   "file_extension": ".py",
   "mimetype": "text/x-python",
   "name": "python",
   "nbconvert_exporter": "python",
   "pygments_lexer": "ipython3",
   "version": "3.11.4"
  }
 },
 "nbformat": 4,
 "nbformat_minor": 2
}
