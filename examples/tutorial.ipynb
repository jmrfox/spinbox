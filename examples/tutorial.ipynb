{
 "cells": [
  {
   "cell_type": "code",
   "execution_count": 1,
   "metadata": {},
   "outputs": [],
   "source": [
    "from spinbox import *\n",
    "from itertools import count\n",
    "seeder = count(0,1) # generates a list of counting numbers for rng \"seeds\" (not really seeds in Numpy, but indices on random seeds)"
   ]
  },
  {
   "cell_type": "markdown",
   "metadata": {},
   "source": [
    "# The `spinbox` Tutorial Notebook\n",
    "\n",
    "First, let me explain the purpose of this code and what it can do. In auxiliary field diffusion Monte Carlo (AFDMC) and Green's function Monte Carlo (GFMC) calculations of atomic nuclei, one approximates the many-body wavefunction with a linear combination of sample \"states\", which are propagated independently according to the nuclear Hamiltonian. These sample states are tensor product states in AFDMC and linear combinations of tensor product states in GFMC; since the latter is more general, any algorithm emplyed in AFDMC should be also applicable in GFMC in principle. This package provides the foundational elements for these calculations.\n",
    "\n",
    "At the time of writing, `spinbox` is only concerned with spin-isospin degrees of freedom (i.e. SU(4)). There is an option to tack coordinates on to sample states, but it has not been developed further. One can optionally turn off isospin, so spin up/down is the only variable (i.e. SU(2))."
   ]
  },
  {
   "cell_type": "markdown",
   "metadata": {},
   "source": [
    "## GFMC\n",
    "For GFMC-style calculations one should use `HilbertState` and `HilbertOperator` classes, named as such because the entire basis of the Hilbert space is available. That is, each basis state is a tensor product state.\n",
    "\n",
    "To start, let's instantiate some random GFMC-style states for a 2-particle system with just spin (no isospin) and compute stuff with them."
   ]
  },
  {
   "cell_type": "markdown",
   "metadata": {},
   "source": []
  },
  {
   "cell_type": "code",
   "execution_count": 12,
   "metadata": {},
   "outputs": [
    {
     "name": "stdout",
     "output_type": "stream",
     "text": [
      "HilbertState ket of 2 particles:\n",
      "[[ 0.05528649+0.52630379j]\n",
      " [-0.15287179+0.33459819j]\n",
      " [-0.1207957 -0.09516618j]\n",
      " [-0.71397915+0.22629087j]]\n"
     ]
    }
   ],
   "source": [
    "state_1 = HilbertState(n_particles=2, ketwise=True, isospin=False).randomize(seed=next(seeder))\n",
    "print(state_1)"
   ]
  },
  {
   "cell_type": "markdown",
   "metadata": {},
   "source": [
    "We have instatiated a random complex-values vector with 4 components corresponding to the states $|\\uparrow\\uparrow\\rangle, |\\uparrow\\downarrow\\rangle,|\\downarrow\\uparrow\\rangle,|\\downarrow\\downarrow\\rangle$.\n",
    "\n",
    "Note that `ketwise=True` makes these ket states. Setting this to false makes bra states. Applying the `.dagger()` method conjugates this attribute.\n",
    "\n",
    "We can instatiate another state and do some usual calculations."
   ]
  },
  {
   "cell_type": "code",
   "execution_count": 13,
   "metadata": {},
   "outputs": [
    {
     "name": "stdout",
     "output_type": "stream",
     "text": [
      "< state 1 | state 1 > =  [[1.+0.j]]\n",
      "< state 2 | state 1 > =  [[0.26070267+0.11864119j]]\n"
     ]
    }
   ],
   "source": [
    "print(\"< state 1 | state 1 > = \" , state_1.dagger() * state_1)\n",
    "\n",
    "state_2 = HilbertState(n_particles=2, ketwise=False, isospin=False).randomize(seed=next(seeder))\n",
    "\n",
    "print(\"< state 2 | state 1 > = \" , state_2 * state_1)"
   ]
  },
  {
   "cell_type": "markdown",
   "metadata": {},
   "source": [
    "The `*` operator does most sensible multiplication. States are normalized by default."
   ]
  },
  {
   "cell_type": "code",
   "execution_count": 4,
   "metadata": {},
   "outputs": [
    {
     "name": "stdout",
     "output_type": "stream",
     "text": [
      "| state 1 > < state 2 | =  HilbertOperator\n",
      "Re=\n",
      "[[ 0.13766273  0.08920391 -0.06410887  0.03841083]\n",
      " [-0.09717941 -0.07032561  0.03920967 -0.00989339]\n",
      " [-0.24990439 -0.01456018  0.23754086 -0.41483372]\n",
      " [-0.21393467 -0.08768083  0.14151299 -0.17899253]]\n",
      "Im:\n",
      "[[-0.01857179 -0.10003659 -0.06370059  0.20089113]\n",
      " [ 0.00139627  0.0620355   0.04960722 -0.14275895]\n",
      " [ 0.26845007  0.35358859  0.02266833 -0.34574636]\n",
      " [ 0.11000793  0.21491686  0.06685491 -0.30564766]]\n"
     ]
    }
   ],
   "source": [
    "print(\"| state 1 > < state 2 | = \" , state_1 * state_2)"
   ]
  },
  {
   "cell_type": "markdown",
   "metadata": {},
   "source": [
    "Ah look, taking the outer product has produced a new class: a `HilbertOperator`. We can combine multiplications between states and operators, but note that Python will associate them to the left, not to the right as we often like to, so you may need to put in some parentheses.\n",
    "\n"
   ]
  },
  {
   "cell_type": "code",
   "execution_count": 5,
   "metadata": {},
   "outputs": [
    {
     "name": "stdout",
     "output_type": "stream",
     "text": [
      "< state 1 | ( | state 1 > < state 2 | ) | state 2> =  [[1.-4.16333634e-17j]]\n"
     ]
    }
   ],
   "source": [
    "outer_product = state_1 * state_2\n",
    "print(\"< state 1 | ( | state 1 > < state 2 | ) | state 2> = \" , state_1.dagger() * outer_product * state_2.dagger())"
   ]
  },
  {
   "cell_type": "markdown",
   "metadata": {},
   "source": [
    "We can make our own operator from scratch too. Operators are always instantiated to the identity. If you want to instantiate to zero, use the `.zero()` method. We can apply the Pauli spin operators to individual particles, and the isospin operators (if the isospin DOFs are included)."
   ]
  },
  {
   "cell_type": "code",
   "execution_count": 11,
   "metadata": {},
   "outputs": [
    {
     "name": "stdout",
     "output_type": "stream",
     "text": [
      "HilbertOperator\n",
      "Re=\n",
      "[[0. 0. 1. 0.]\n",
      " [0. 0. 0. 1.]\n",
      " [1. 0. 0. 0.]\n",
      " [0. 1. 0. 0.]]\n",
      "Im:\n",
      "[[0. 0. 0. 0.]\n",
      " [0. 0. 0. 0.]\n",
      " [0. 0. 0. 0.]\n",
      " [0. 0. 0. 0.]]\n"
     ]
    }
   ],
   "source": [
    "operator = HilbertOperator(n_particles=2, isospin=False).apply_sigma(particle_index=0, dimension=0)\n",
    "print(operator)\n"
   ]
  },
  {
   "cell_type": "markdown",
   "metadata": {},
   "source": [
    "In the tensor product space formalism, this is the one-body operator $\\hat{\\sigma}_{x} \\otimes I := \\hat{\\sigma}_{1x}$. Note that indices start at zero: particle $i$ is indexed $i-1$."
   ]
  },
  {
   "cell_type": "markdown",
   "metadata": {},
   "source": [
    "In the full Hilbert space, states and operators can be added together to produce states and operators respectively. This is not the case with `ProductState` and `ProductOperator`, which I will get to later.\n",
    "\n",
    "Let's construct the two-body spin interaction operator for our two particles: $\\vec{\\sigma}_1 \\cdot \\vec{\\sigma}_2$."
   ]
  },
  {
   "cell_type": "code",
   "execution_count": 15,
   "metadata": {},
   "outputs": [
    {
     "name": "stdout",
     "output_type": "stream",
     "text": [
      "HilbertOperator\n",
      "Re=\n",
      "[[ 1.  0.  0.  0.]\n",
      " [ 0. -1.  2.  0.]\n",
      " [ 0.  2. -1.  0.]\n",
      " [ 0.  0.  0.  1.]]\n",
      "Im:\n",
      "[[0. 0. 0. 0.]\n",
      " [0. 0. 0. 0.]\n",
      " [0. 0. 0. 0.]\n",
      " [0. 0. 0. 0.]]\n"
     ]
    }
   ],
   "source": [
    "si_dot_sj = HilbertOperator(n_particles=2,isospin=False).zero()\n",
    "for dimension in (0,1,2):\n",
    "    si_dot_sj += HilbertOperator(n_particles=2,isospin=False).apply_sigma(0,dimension).apply_sigma(1,dimension)\n",
    "\n",
    "print(si_dot_sj)"
   ]
  },
  {
   "cell_type": "code",
   "execution_count": null,
   "metadata": {},
   "outputs": [],
   "source": []
  }
 ],
 "metadata": {
  "kernelspec": {
   "display_name": ".venv",
   "language": "python",
   "name": "python3"
  },
  "language_info": {
   "codemirror_mode": {
    "name": "ipython",
    "version": 3
   },
   "file_extension": ".py",
   "mimetype": "text/x-python",
   "name": "python",
   "nbconvert_exporter": "python",
   "pygments_lexer": "ipython3",
   "version": "3.12.2"
  }
 },
 "nbformat": 4,
 "nbformat_minor": 2
}
