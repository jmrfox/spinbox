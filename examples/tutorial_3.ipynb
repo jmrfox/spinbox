{
 "cells": [
  {
   "cell_type": "code",
   "execution_count": 1,
   "metadata": {},
   "outputs": [],
   "source": [
    "from spinbox import *\n",
    "from itertools import count\n",
    "seeder = count(0,1) # generates a list of counting numbers for rng \"seeds\" (not really seeds in Numpy, but indices of seeds)"
   ]
  },
  {
   "cell_type": "markdown",
   "metadata": {},
   "source": [
    "# The `spinbox` tutorial\n",
    "## Part 3 : Basic imaginary-time propagation in the full basis space\n",
    "\n",
    "This notebook will show how to approach imaginary-time propagation of `HilbertState` objects using a simple interaction.\n",
    "\n",
    "Note that `spinbox` does not have any built-in kinetic operator stuff. We are focused on the interaction, although any operator can be made using a `HilbertOperator`.\n",
    "\n",
    "Consider the following imaginary-time propagator amplitude between states $S$ and $S'$ of a 2-particle system with spin and isospin.\n",
    "\n",
    "$$\\langle S' | \\exp \\left[  - \\frac{\\delta\\tau}{2} A^\\sigma_{1x2x} \\sigma_{1x} \\sigma_{2x} \\right] | S \\rangle $$\n",
    "\n",
    "First, instantiate some states."
   ]
  },
  {
   "cell_type": "code",
   "execution_count": 9,
   "metadata": {},
   "outputs": [
    {
     "name": "stdout",
     "output_type": "stream",
     "text": [
      "HilbertState ket of 2 particles:\n",
      "[[ 0.17246905+0.2116545j ]\n",
      " [ 0.29093646+0.29458772j]\n",
      " [-0.41815329-0.00427012j]\n",
      " [-0.02259457+0.22661052j]\n",
      " [ 0.1660171 -0.14835017j]\n",
      " [ 0.22144063-0.13368808j]\n",
      " [ 0.1070711 +0.01331502j]\n",
      " [ 0.24518339+0.04609j   ]\n",
      " [ 0.04748643-0.26186675j]\n",
      " [ 0.09028117-0.28344116j]\n",
      " [ 0.02927192+0.05815128j]\n",
      " [-0.17586613-0.14120077j]\n",
      " [-0.13865265+0.19789296j]\n",
      " [ 0.06216461+0.06461494j]\n",
      " [-0.09501872+0.05030771j]\n",
      " [ 0.20824231+0.0341367j ]] \n",
      " HilbertState bra of 2 particles:\n",
      "[[ 2.32506725e-04-0.25406501j  5.64647864e-02-0.08649226j -5.18137796e-02-0.35934306j -1.68327461e-01-0.24373075j -8.59356393e-02-0.34809951j -1.87427439e-01-0.0444337j   1.13675193e-02-0.23955536j\n",
      "   2.53309114e-01+0.05127067j -9.30301291e-02+0.02962694j -1.17273660e-01-0.03533112j  9.25832297e-02-0.47568342j  6.74538902e-02-0.10181635j  1.99239564e-02-0.00916698j -1.75864315e-01+0.02141611j\n",
      "  -5.52877850e-03-0.28920529j  1.31416679e-01-0.09029838j]]\n"
     ]
    }
   ],
   "source": [
    "s = HilbertState(2, ketwise=True, isospin=True).randomize(next(seeder))\n",
    "sp = HilbertState(2, ketwise=False, isospin=True).randomize(next(seeder))\n",
    "print(s,\"\\n\",sp)"
   ]
  },
  {
   "cell_type": "markdown",
   "metadata": {},
   "source": [
    "The coupling $A^\\sigma_{1x2x}$ is some real number determined by other calculations, so we will just plug in some number. For more complicated situations, we should use a `TwoBodyCoupling` for this.\n",
    "\n",
    "We can compute the amplitude \"exactly\" using the Pade approximant exponentiation, like so."
   ]
  },
  {
   "cell_type": "code",
   "execution_count": 10,
   "metadata": {},
   "outputs": [
    {
     "name": "stdout",
     "output_type": "stream",
     "text": [
      "exact =  [[0.13860788+0.09865043j]]\n"
     ]
    }
   ],
   "source": [
    "coupling = 3.14\n",
    "dt = 0.01\n",
    "force = HilbertOperator(2).apply_sigma(0,0).apply_sigma(1,0).scale(coupling)  # note that isospin is True by default\n",
    "propagator = force.scale(- 0.5j * dt).exp()\n",
    "amplitude_exact = sp * propagator * s\n",
    "print(\"exact = \", amplitude_exact)"
   ]
  },
  {
   "cell_type": "markdown",
   "metadata": {},
   "source": [
    "Next, lets compute this again using a Hubbard-Stratonovich transform, using the `HilbertPropagatorHS` class. \n",
    "\n",
    "The HS and RBM propagator classes all have built-in methods for the usual forces, as well as methods `onebody()` and `twobody_sample()` which apply one-body propagators and samples of the \"two-body\" summand for the appropriate method.\n",
    "\n",
    "Note that here we are \"balancing\" the distribution: for each sample of the Gaussian auxiliary field $x$ we also evaluate at $-x$."
   ]
  },
  {
   "cell_type": "code",
   "execution_count": 13,
   "metadata": {},
   "outputs": [
    {
     "name": "stdout",
     "output_type": "stream",
     "text": [
      "HS = (0.13863316135607667+0.09865983951096717j) +/- 6.95304805172661e-05\n",
      "relative error = [[-0.00015315+4.11303512e-05j]]\n"
     ]
    }
   ],
   "source": [
    "n_samples = 100000\n",
    "prop_hs = HilbertPropagatorHS(2, dt)\n",
    "gaussian_fields = np.random.standard_normal(size=n_samples)\n",
    "operator_i = HilbertOperator(2).apply_sigma(0,0)\n",
    "operator_j = HilbertOperator(2).apply_sigma(1,0)\n",
    "amplitude_distribution_hs = np.zeros(2*n_samples, dtype=complex)\n",
    "for ix,x in enumerate(gaussian_fields):\n",
    "    amplitude_distribution_hs[2*ix:2*(ix+1)]= sp * prop_hs.twobody_sample(coupling, x, operator_i, operator_j) * s\n",
    "    x_flip = -x\n",
    "    amplitude_distribution_hs[2*ix+1:2*(ix+1)+1]= sp * prop_hs.twobody_sample(coupling, x_flip, operator_i, operator_j) * s\n",
    "amplitude_hs = np.mean(amplitude_distribution_hs)\n",
    "amplitude_hs_unc = np.std(amplitude_distribution_hs)/np.sqrt(n_samples)\n",
    "print(f\"HS = {amplitude_hs} +/- {amplitude_hs_unc}\")\n",
    "print(f\"relative error = {(amplitude_exact - amplitude_hs)/amplitude_exact}\")"
   ]
  },
  {
   "cell_type": "markdown",
   "metadata": {},
   "source": [
    "That's in agreement with the exact. Finally, let's use `HilbertPropagatorRBM` to do the same. We also balance this calculation: for each sample of the binary auxiliary field $h$ we also evaluate at $1-h$."
   ]
  },
  {
   "cell_type": "code",
   "execution_count": 14,
   "metadata": {},
   "outputs": [
    {
     "name": "stdout",
     "output_type": "stream",
     "text": [
      "RBM = (0.13860787609549666+0.09865043223241828j) +/- 8.757946600012966e-05\n",
      "relative error = [[8.5616613e-17-1.61057974e-16j]]\n"
     ]
    }
   ],
   "source": [
    "prop_rbm = HilbertPropagatorRBM(2, dt)\n",
    "binary_fields = np.random.randint(0,2,size=n_samples)\n",
    "amplitude_distribution_rbm = np.zeros(2*n_samples, dtype=complex)\n",
    "for ih,h in enumerate(binary_fields):\n",
    "    amplitude_distribution_rbm[2*ih:2*(ih+1)] = sp * prop_rbm.twobody_sample(coupling, h, operator_i, operator_j) * s\n",
    "    h_flip = 1-h\n",
    "    amplitude_distribution_rbm[2*ih+1:2*(ih+1)+1] = sp * prop_rbm.twobody_sample(coupling, h_flip, operator_i, operator_j) * s\n",
    "amplitude_rbm = np.mean(amplitude_distribution_rbm)\n",
    "amplitude_rbm_unc = np.std(amplitude_distribution_rbm)/np.sqrt(n_samples)\n",
    "print(f\"RBM = {amplitude_rbm} +/- {amplitude_rbm_unc}\")\n",
    "print(f\"relative error = {(amplitude_exact - amplitude_rbm)/amplitude_exact}\")"
   ]
  },
  {
   "cell_type": "markdown",
   "metadata": {},
   "source": [
    "That looks good. While we are here, let's try a three-body force too. We can do the same thing but compute this propagator amplitude for a 3-particle system. We do not have a Hubbard-Stratonovich transformation for 3-body forces, but we can use the RBM.\n",
    "\n",
    "$$\\langle S' | \\exp \\left[  - \\frac{\\delta\\tau}{2} A^\\sigma_{1x2x3x} \\sigma_{1x} \\sigma_{2x} \\sigma_{3x} \\right] | S \\rangle $$\n",
    "\n",
    "Note that the scaling for three-body is worse, so depending on `n_samples` this may take a while. Later, we will look at how to do general calculations using the `Integrator` class, which has thread-parallelization."
   ]
  },
  {
   "cell_type": "code",
   "execution_count": 7,
   "metadata": {},
   "outputs": [
    {
     "name": "stdout",
     "output_type": "stream",
     "text": [
      "exact =  [[-0.00344316+0.0056979j]]\n"
     ]
    },
    {
     "name": "stderr",
     "output_type": "stream",
     "text": [
      "100%|██████████| 10000/10000 [00:50<00:00, 196.45it/s]"
     ]
    },
    {
     "name": "stdout",
     "output_type": "stream",
     "text": [
      "RBM = (-0.0029961029297486032+0.0065467270985524965j) +/- 0.0011992195190054615\n",
      "error = [[-0.00044706-0.00084883j]]\n",
      "relative error = [[-0.07439407+0.12341591j]]\n"
     ]
    },
    {
     "name": "stderr",
     "output_type": "stream",
     "text": [
      "\n"
     ]
    }
   ],
   "source": [
    "s = HilbertState(3, ketwise=True, isospin=True).randomize(next(seeder))\n",
    "sp = HilbertState(3, ketwise=False, isospin=True).randomize(next(seeder))\n",
    "\n",
    "coupling = 3.14\n",
    "dt = 0.01\n",
    "force = HilbertOperator(3).apply_sigma(0,0).apply_sigma(1,0).apply_sigma(2,0).scale(coupling) \n",
    "propagator = force.scale(- 0.5j * dt).exp()\n",
    "amplitude_exact = sp * propagator * s\n",
    "print(\"exact = \", amplitude_exact)\n",
    "\n",
    "n_samples = 1000\n",
    "prop_rbm = HilbertPropagatorRBM(3, dt)\n",
    "operator_i = HilbertOperator(3).apply_sigma(0,0)\n",
    "operator_j = HilbertOperator(3).apply_sigma(1,0)\n",
    "operator_k = HilbertOperator(3).apply_sigma(2,0)\n",
    "binary_fields = np.random.randint(0,2,size=(n_samples,4))\n",
    "amplitude_distribution_rbm = []\n",
    "for h in tqdm(binary_fields):\n",
    "    amplitude_distribution_rbm.append( sp * prop_rbm.threebody_sample(coupling, h, operator_i, operator_j, operator_k) * s)\n",
    "    h_flip = 1 - h\n",
    "    amplitude_distribution_rbm.append( sp * prop_rbm.threebody_sample(coupling, h_flip, operator_i, operator_j, operator_k) * s)\n",
    "amplitude_rbm = np.mean(amplitude_distribution_rbm)\n",
    "amplitude_rbm_unc = np.std(amplitude_distribution_rbm)/np.sqrt(n_samples)\n",
    "print(f\"RBM = {amplitude_rbm} +/- {amplitude_rbm_unc}\")\n",
    "print(f\"error = {(amplitude_exact - amplitude_rbm)}\")\n",
    "print(f\"relative error = {(amplitude_exact - amplitude_rbm)/amplitude_exact}\")"
   ]
  },
  {
   "cell_type": "code",
   "execution_count": null,
   "metadata": {},
   "outputs": [],
   "source": []
  }
 ],
 "metadata": {
  "kernelspec": {
   "display_name": ".venv",
   "language": "python",
   "name": "python3"
  },
  "language_info": {
   "codemirror_mode": {
    "name": "ipython",
    "version": 3
   },
   "file_extension": ".py",
   "mimetype": "text/x-python",
   "name": "python",
   "nbconvert_exporter": "python",
   "pygments_lexer": "ipython3",
   "version": "3.11.4"
  }
 },
 "nbformat": 4,
 "nbformat_minor": 2
}
