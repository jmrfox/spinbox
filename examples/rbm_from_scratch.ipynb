{
 "cells": [
  {
   "cell_type": "code",
   "execution_count": 40,
   "metadata": {},
   "outputs": [],
   "source": [
    "from spinbox import *\n",
    "from spinbox.extras import pmat\n",
    "seeder = itertools.count(0,1)"
   ]
  },
  {
   "cell_type": "code",
   "execution_count": 172,
   "metadata": {},
   "outputs": [
    {
     "name": "stdout",
     "output_type": "stream",
     "text": [
      "[[0.31040711+0.25643577j]]\n",
      "[[0.31040711+0.25643577j]]\n",
      "Real part:\n",
      "[1.0, nan, nan, nan, nan, nan, nan, nan, nan, nan, nan, nan, nan, nan, nan, 1.0]\n",
      "[nan, 1.0, nan, nan, nan, nan, nan, nan, nan, nan, nan, nan, nan, nan, 1.0, nan]\n",
      "[nan, nan, 1.0, nan, nan, nan, nan, nan, nan, nan, nan, nan, nan, 1.0, nan, nan]\n",
      "[nan, nan, nan, 1.0, nan, nan, nan, nan, nan, nan, nan, nan, 1.0, nan, nan, nan]\n",
      "[nan, nan, nan, nan, 1.0, nan, nan, nan, nan, nan, nan, 1.0, nan, nan, nan, nan]\n",
      "[nan, nan, nan, nan, nan, 1.0, nan, nan, nan, nan, 1.0, nan, nan, nan, nan, nan]\n",
      "[nan, nan, nan, nan, nan, nan, 1.0, nan, nan, 1.0, nan, nan, nan, nan, nan, nan]\n",
      "[nan, nan, nan, nan, nan, nan, nan, 1.0, 1.0, nan, nan, nan, nan, nan, nan, nan]\n",
      "[nan, nan, nan, nan, nan, nan, nan, 1.0, 1.0, nan, nan, nan, nan, nan, nan, nan]\n",
      "[nan, nan, nan, nan, nan, nan, 1.0, nan, nan, 1.0, nan, nan, nan, nan, nan, nan]\n",
      "[nan, nan, nan, nan, nan, 1.0, nan, nan, nan, nan, 1.0, nan, nan, nan, nan, nan]\n",
      "[nan, nan, nan, nan, 1.0, nan, nan, nan, nan, nan, nan, 1.0, nan, nan, nan, nan]\n",
      "[nan, nan, nan, 1.0, nan, nan, nan, nan, nan, nan, nan, nan, 1.0, nan, nan, nan]\n",
      "[nan, nan, 1.0, nan, nan, nan, nan, nan, nan, nan, nan, nan, nan, 1.0, nan, nan]\n",
      "[nan, 1.0, nan, nan, nan, nan, nan, nan, nan, nan, nan, nan, nan, nan, 1.0, nan]\n",
      "[1.0, nan, nan, nan, nan, nan, nan, nan, nan, nan, nan, nan, nan, nan, nan, 1.0]\n",
      "Imaginary part:\n",
      "[8.6737258e-19, nan, nan, nan, nan, nan, nan, nan, nan, nan, nan, nan, nan, nan, nan, -1.1994037e-16]\n",
      "[nan, 8.6737258e-19, nan, nan, nan, nan, nan, nan, nan, nan, nan, nan, nan, nan, -1.1994037e-16, nan]\n",
      "[nan, nan, 8.6737258e-19, nan, nan, nan, nan, nan, nan, nan, nan, nan, nan, -1.2265088e-16, nan, nan]\n",
      "[nan, nan, nan, 8.6737258e-19, nan, nan, nan, nan, nan, nan, nan, nan, -1.2265088e-16, nan, nan, nan]\n",
      "[nan, nan, nan, nan, 8.6737258e-19, nan, nan, nan, nan, nan, nan, -1.1994037e-16, nan, nan, nan, nan]\n",
      "[nan, nan, nan, nan, nan, 8.6737258e-19, nan, nan, nan, nan, -1.1994037e-16, nan, nan, nan, nan, nan]\n",
      "[nan, nan, nan, nan, nan, nan, 8.6737258e-19, nan, nan, -1.2265088e-16, nan, nan, nan, nan, nan, nan]\n",
      "[nan, nan, nan, nan, nan, nan, nan, 8.6737258e-19, -1.2265088e-16, nan, nan, nan, nan, nan, nan, nan]\n",
      "[nan, nan, nan, nan, nan, nan, nan, -1.8770328e-16, 8.6737258e-19, nan, nan, nan, nan, nan, nan, nan]\n",
      "[nan, nan, nan, nan, nan, nan, -1.8770328e-16, nan, nan, 8.6737258e-19, nan, nan, nan, nan, nan, nan]\n",
      "[nan, nan, nan, nan, nan, -1.0232201e-16, nan, nan, nan, nan, 8.6737258e-19, nan, nan, nan, nan, nan]\n",
      "[nan, nan, nan, nan, -1.0232201e-16, nan, nan, nan, nan, nan, nan, 8.6737258e-19, nan, nan, nan, nan]\n",
      "[nan, nan, nan, -1.8770328e-16, nan, nan, nan, nan, nan, nan, nan, nan, 8.6737258e-19, nan, nan, nan]\n",
      "[nan, nan, -1.8770328e-16, nan, nan, nan, nan, nan, nan, nan, nan, nan, nan, 8.6737258e-19, nan, nan]\n",
      "[nan, -1.0232201e-16, nan, nan, nan, nan, nan, nan, nan, nan, nan, nan, nan, nan, 8.6737258e-19, nan]\n",
      "[-1.0232201e-16, nan, nan, nan, nan, nan, nan, nan, nan, nan, nan, nan, nan, nan, nan, 8.6737258e-19]\n"
     ]
    },
    {
     "name": "stderr",
     "output_type": "stream",
     "text": [
      "C:\\Users\\MainUser\\AppData\\Local\\Temp\\ipykernel_12040\\2398621724.py:36: RuntimeWarning: invalid value encountered in divide\n",
      "  pmat(prop_rbm.coefficients / prop_exact.coefficients, heatmap=True)\n"
     ]
    },
    {
     "data": {
      "image/png": "[encoded data removed]",
      "text/plain": [
       "<Figure size 640x480 with 2 Axes>"
      ]
     },
     "metadata": {},
     "output_type": "display_data"
    }
   ],
   "source": [
    "isospin = True\n",
    "n_particles = 2\n",
    "\n",
    "dt = 0.01\n",
    "deltatau = dt*1j\n",
    "\n",
    "coupling = -1\n",
    "\n",
    "y = HilbertState(n_particles, isospin=isospin).randomize(seed=next(seeder))\n",
    "yp = HilbertState(n_particles, isospin=isospin, ketwise=False).randomize(seed=next(seeder))\n",
    "\n",
    "op_i = HilbertOperator(n_particles, isospin=isospin).apply_sigma(0,0).apply_tau(0,0)\n",
    "op_j = HilbertOperator(n_particles, isospin=isospin).apply_sigma(1,1).apply_tau(1,1)\n",
    "prop_exact = (op_i * op_j).scale(- deltatau * 0.5 * coupling).exp()\n",
    "\n",
    "print(yp * prop_exact * y)\n",
    "\n",
    "####\n",
    "\n",
    "def a2b_factors(coupling:float) -> tuple:\n",
    "    if not (np.real(coupling)==0. or np.imag(coupling)==0.):\n",
    "        raise ValueError(\"coupling should be entirely real or imaginary\")\n",
    "    z = deltatau * 0.5 * coupling\n",
    "    n = cexp(-cabs(z))\n",
    "    w = carctanh(csqrt(ctanh(cabs(z))))\n",
    "    s = z/cabs(z)\n",
    "    return n, w, s\n",
    "\n",
    "n,w,s = a2b_factors(coupling)\n",
    "\n",
    "kernel = lambda h : (op_i-op_j.scale(s)).scale(w*(2*h-1)).exp()\n",
    "\n",
    "prop_rbm = (kernel(0) + kernel(1)).scale(n/2)\n",
    "\n",
    "print(yp * prop_rbm * y)\n",
    "pmat(prop_rbm.coefficients / prop_exact.coefficients, heatmap=True)\n"
   ]
  },
  {
   "cell_type": "code",
   "execution_count": null,
   "metadata": {},
   "outputs": [],
   "source": []
  }
 ],
 "metadata": {
  "kernelspec": {
   "display_name": ".venv",
   "language": "python",
   "name": "python3"
  },
  "language_info": {
   "codemirror_mode": {
    "name": "ipython",
    "version": 3
   },
   "file_extension": ".py",
   "mimetype": "text/x-python",
   "name": "python",
   "nbconvert_exporter": "python",
   "pygments_lexer": "ipython3",
   "version": "3.11.4"
  }
 },
 "nbformat": 4,
 "nbformat_minor": 2
}
