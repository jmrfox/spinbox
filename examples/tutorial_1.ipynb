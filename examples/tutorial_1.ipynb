{
 "cells": [
  {
   "cell_type": "code",
   "execution_count": 11,
   "metadata": {},
   "outputs": [],
   "source": [
    "from spinbox import *\n",
    "from itertools import count\n",
    "seeder = count(0,1) # generates a list of counting numbers for rng \"seeds\" (not really seeds in Numpy, but indices of seeds)"
   ]
  },
  {
   "cell_type": "markdown",
   "metadata": {},
   "source": [
    "# The `spinbox` tutorial\n",
    "## Part 1 : Simple calculations in the full Hilbert space\n",
    "\n",
    "First, let me explain the purpose of this code and what it can do. In auxiliary field diffusion Monte Carlo (AFDMC) and Green's function Monte Carlo (GFMC) calculations of atomic nuclei, one approximates the many-body wavefunction with a linear combination of sample \"states\", which are propagated independently according to the nuclear Hamiltonian. These sample states are tensor product states in AFDMC and linear combinations of tensor product states in GFMC; since the latter is more general, many algorithm employed in AFDMC are also applicable in GFMC. This package provides the foundational elements for these calculations.\n",
    "\n",
    "A few things to make clear up-front:\n",
    "\n",
    "* At the time of writing, `spinbox` is only concerned with spin-isospin degrees of freedom . There is an option to attach coordinates to sample states, but it has not been developed further. One can optionally turn off isospin, so spin up/down is the only variable.\n",
    "* I am only concerned with the part of imaginary time propagation corresponding to potentials. I did my best to write general and generalizable code, but there is nothing specifically built-in for kinetic energy.\n",
    "* `spinbox` uses Python's `assert` statements to check many things. However, this will slow down your code execution. Use the `-O` command line argument or write `__debug__=False` in your Python code to skip the `assert` checks.\n",
    "\n",
    "---"
   ]
  },
  {
   "cell_type": "markdown",
   "metadata": {},
   "source": [
    "For GFMC-style calculations one should use `HilbertState` and `HilbertOperator` classes, named as such because the entire basis of the Hilbert space is available. That is, each basis state is a tensor product state.\n",
    "\n",
    "To start, let's instantiate some random GFMC-style states for a 2-particle system with just spin (no isospin) and compute stuff with them."
   ]
  },
  {
   "cell_type": "code",
   "execution_count": 12,
   "metadata": {},
   "outputs": [
    {
     "name": "stdout",
     "output_type": "stream",
     "text": [
      "HilbertState ket of 2 particles:\n",
      "[[ 0.06750061-0.2875841j ]\n",
      " [-0.07092296+0.19412905j]\n",
      " [ 0.34382285+0.70007675j]\n",
      " [ 0.05631758+0.50845808j]]\n"
     ]
    }
   ],
   "source": [
    "ket_1 = HilbertState(n_particles=2, ketwise=True, isospin=False).randomize(seed=next(seeder))\n",
    "print(ket_1)"
   ]
  },
  {
   "cell_type": "markdown",
   "metadata": {},
   "source": [
    "We have instatiated a random complex-values vector with 4 components corresponding to the states $|\\uparrow\\uparrow\\rangle, |\\uparrow\\downarrow\\rangle,|\\downarrow\\uparrow\\rangle,|\\downarrow\\downarrow\\rangle$.\n",
    "\n",
    "Note that `ketwise=True` makes a ket state. Setting this to false makes a bra state. Applying the `.dagger()` method returns the Hermitian conjugate and changes this attribute. \n",
    "\n",
    "We can instatiate another state and do some typical calculations."
   ]
  },
  {
   "cell_type": "code",
   "execution_count": 13,
   "metadata": {},
   "outputs": [
    {
     "name": "stdout",
     "output_type": "stream",
     "text": [
      "HilbertState bra of 2 particles:\n",
      "[[ 0.16769553+0.43932604j  0.39869211+0.2166043j   0.16034536-0.26055781j -0.63236008+0.28198891j]]\n"
     ]
    }
   ],
   "source": [
    "bra_2 = HilbertState(n_particles=2, ketwise=False, isospin=False).randomize(seed=next(seeder))\n",
    "print(bra_2)"
   ]
  },
  {
   "cell_type": "markdown",
   "metadata": {},
   "source": [
    "We can add and subtract these states."
   ]
  },
  {
   "cell_type": "code",
   "execution_count": 14,
   "metadata": {},
   "outputs": [
    {
     "name": "stdout",
     "output_type": "stream",
     "text": [
      "| state 1 > - | state 1 > =  HilbertState ket of 2 particles:\n",
      "[[0.+0.j]\n",
      " [0.+0.j]\n",
      " [0.+0.j]\n",
      " [0.+0.j]]\n",
      "| state 1 > + | state 2 > =  HilbertState ket of 2 particles:\n",
      "[[ 0.23519615-0.72691013j]\n",
      " [ 0.32776915-0.02247525j]\n",
      " [ 0.50416821+0.96063456j]\n",
      " [-0.57604249+0.22646917j]]\n"
     ]
    }
   ],
   "source": [
    "print(\"| state 1 > - | state 1 > = \" , ket_1 - ket_1)\n",
    "print(\"| state 1 > + | state 2 > = \" , ket_1 + bra_2.dagger())"
   ]
  },
  {
   "cell_type": "markdown",
   "metadata": {},
   "source": [
    "Like I mentioned, this addition and subtraction will allow you to perform *improper* calculations, like adding a bra to a ket, without throwing an error. By rules of NumPy, this returns a matrix, so beware!"
   ]
  },
  {
   "cell_type": "code",
   "execution_count": 15,
   "metadata": {},
   "outputs": [
    {
     "name": "stdout",
     "output_type": "stream",
     "text": [
      "| state 1 > + < state 2 | =  HilbertState ket of 2 particles:\n",
      "[[ 0.23519615+0.15174194j  0.46619273-0.0709798j   0.22784597-0.5481419j  -0.56485946-0.00559519j]\n",
      " [ 0.09677257+0.63345509j  0.32776915+0.41073335j  0.0894224 -0.06642875j -0.70328304+0.47611796j]\n",
      " [ 0.51151838+1.13940279j  0.74251496+0.91668105j  0.50416821+0.43951895j -0.28853723+0.98206566j]\n",
      " [ 0.22401312+0.94778412j  0.4550097 +0.72506238j  0.21666294+0.24790028j -0.57604249+0.79044699j]]\n"
     ]
    }
   ],
   "source": [
    "print(\"| state 1 > + < state 2 | = \" , ket_1 + bra_2)"
   ]
  },
  {
   "cell_type": "markdown",
   "metadata": {},
   "source": [
    "The `*` operator does most sensible multiplication. States are normalized by default.\n",
    "\n",
    "You can multiply a state by a scalar number, but the scalar must go on the right, not the left. The reason for this has to do with Python's multiplication methods (I didn't want to define a `__rmul__` method for this)."
   ]
  },
  {
   "cell_type": "code",
   "execution_count": 16,
   "metadata": {},
   "outputs": [
    {
     "name": "stdout",
     "output_type": "stream",
     "text": [
      "HilbertState ket of 2 particles:\n",
      "[[ 0.20250184-0.86275229j]\n",
      " [-0.21276888+0.58238715j]\n",
      " [ 1.03146854+2.10023025j]\n",
      " [ 0.16895275+1.52537425j]]\n"
     ]
    }
   ],
   "source": [
    "print(ket_1 * 3.0) # reversing this order will give an error"
   ]
  },
  {
   "cell_type": "markdown",
   "metadata": {},
   "source": [
    "A bra times a ket returns a scalar. A ket times a bra returns a `HilbertOperator`."
   ]
  },
  {
   "cell_type": "code",
   "execution_count": 17,
   "metadata": {},
   "outputs": [
    {
     "name": "stdout",
     "output_type": "stream",
     "text": [
      "< state 1 | state 1 > =  [[1.+0.j]]\n",
      "< state 2 | state 1 > =  [[0.12588545-0.23951561j]]\n",
      "| state 1 > < state 2 | =  HilbertOperator\n",
      "Re=\n",
      "[[ 0.13766273  0.08920391 -0.06410887  0.03841083]\n",
      " [-0.09717941 -0.07032561  0.03920967 -0.00989339]\n",
      " [-0.24990439 -0.01456018  0.23754086 -0.41483372]\n",
      " [-0.21393467 -0.08768083  0.14151299 -0.17899253]]\n",
      "Im:\n",
      "[[-0.01857179 -0.10003659 -0.06370059  0.20089113]\n",
      " [ 0.00139627  0.0620355   0.04960722 -0.14275895]\n",
      " [ 0.26845007  0.35358859  0.02266833 -0.34574636]\n",
      " [ 0.11000793  0.21491686  0.06685491 -0.30564766]]\n"
     ]
    }
   ],
   "source": [
    "print(\"< state 1 | state 1 > = \" , ket_1.dagger() * ket_1)\n",
    "print(\"< state 2 | state 1 > = \" , bra_2 * ket_1)\n",
    "print(\"| state 1 > < state 2 | = \" , ket_1 * bra_2)"
   ]
  },
  {
   "cell_type": "markdown",
   "metadata": {},
   "source": [
    "Since the `__mul__` rule is defined for multiple classes, we can actually have an error for improper multiplication. For simplicity, both ket times ket and bra times bra return this error."
   ]
  },
  {
   "cell_type": "code",
   "execution_count": 18,
   "metadata": {},
   "outputs": [
    {
     "ename": "ValueError",
     "evalue": "Improper multiplication.",
     "output_type": "error",
     "traceback": [
      "\u001b[1;31m---------------------------------------------------------------------------\u001b[0m",
      "\u001b[1;31mValueError\u001b[0m                                Traceback (most recent call last)",
      "Cell \u001b[1;32mIn[18], line 1\u001b[0m\n\u001b[1;32m----> 1\u001b[0m \u001b[38;5;28mprint\u001b[39m(\u001b[38;5;124m\"\u001b[39m\u001b[38;5;124m| state 1 > | state 2 > = \u001b[39m\u001b[38;5;124m\"\u001b[39m , \u001b[43mket_1\u001b[49m\u001b[43m \u001b[49m\u001b[38;5;241;43m*\u001b[39;49m\u001b[43m \u001b[49m\u001b[43mbra_2\u001b[49m\u001b[38;5;241;43m.\u001b[39;49m\u001b[43mdagger\u001b[49m\u001b[43m(\u001b[49m\u001b[43m)\u001b[49m)\n",
      "File \u001b[1;32m~\\Documents\\GitHub\\spinbox\\src\\spinbox\\core.py:466\u001b[0m, in \u001b[0;36mHilbertState.__mul__\u001b[1;34m(self, other)\u001b[0m\n\u001b[0;32m    464\u001b[0m         \u001b[38;5;28;01mreturn\u001b[39;00m \u001b[38;5;28mself\u001b[39m\u001b[38;5;241m.\u001b[39minner(other)\n\u001b[0;32m    465\u001b[0m     \u001b[38;5;28;01melse\u001b[39;00m:\n\u001b[1;32m--> 466\u001b[0m         \u001b[38;5;28;01mraise\u001b[39;00m \u001b[38;5;167;01mValueError\u001b[39;00m(\u001b[38;5;124m\"\u001b[39m\u001b[38;5;124mImproper multiplication.\u001b[39m\u001b[38;5;124m\"\u001b[39m)\n\u001b[0;32m    467\u001b[0m \u001b[38;5;28;01melif\u001b[39;00m \u001b[38;5;28misinstance\u001b[39m(other, HilbertOperator):\n\u001b[0;32m    468\u001b[0m     \u001b[38;5;28;01mif\u001b[39;00m \u001b[38;5;129;01mnot\u001b[39;00m \u001b[38;5;28mself\u001b[39m\u001b[38;5;241m.\u001b[39mketwise:\n",
      "\u001b[1;31mValueError\u001b[0m: Improper multiplication."
     ]
    }
   ],
   "source": [
    "print(\"| state 1 > | state 2 > = \" , ket_1 * bra_2.dagger())"
   ]
  },
  {
   "cell_type": "markdown",
   "metadata": {},
   "source": [
    "Finally, we can list multiplications together as usual. "
   ]
  },
  {
   "cell_type": "code",
   "execution_count": 19,
   "metadata": {},
   "outputs": [
    {
     "name": "stdout",
     "output_type": "stream",
     "text": [
      "< state 1 | ( | state 1 > < state 2 | ) | state 2> =  [[1.-4.16333634e-17j]]\n"
     ]
    }
   ],
   "source": [
    "outer_product = ket_1 * bra_2\n",
    "print(\"< state 1 | ( | state 1 > < state 2 | ) | state 2> = \" , ket_1.dagger() * outer_product * bra_2.dagger())"
   ]
  },
  {
   "cell_type": "markdown",
   "metadata": {},
   "source": [
    "We can make our own operator from scratch too. Operators are always instantiated to the identity. If you want to instantiate to zero, use the `.zero()` method. We can apply the Pauli spin operators to individual particles, and the isospin operators (if the isospin DOFs are included)."
   ]
  },
  {
   "cell_type": "code",
   "execution_count": 20,
   "metadata": {},
   "outputs": [
    {
     "name": "stdout",
     "output_type": "stream",
     "text": [
      "HilbertOperator\n",
      "Re=\n",
      "[[0. 0. 1. 0.]\n",
      " [0. 0. 0. 1.]\n",
      " [1. 0. 0. 0.]\n",
      " [0. 1. 0. 0.]]\n",
      "Im:\n",
      "[[0. 0. 0. 0.]\n",
      " [0. 0. 0. 0.]\n",
      " [0. 0. 0. 0.]\n",
      " [0. 0. 0. 0.]]\n"
     ]
    }
   ],
   "source": [
    "operator = HilbertOperator(n_particles=2, isospin=False).apply_sigma(particle_index=0, dimension=0)\n",
    "print(operator)"
   ]
  },
  {
   "cell_type": "markdown",
   "metadata": {},
   "source": [
    "In the tensor product space formalism, this is the one-body operator $\\hat{\\sigma}_{x} \\otimes I := \\hat{\\sigma}_{1x}$. Note that indices start at zero: particle $i$ is indexed $i-1$.\n",
    "\n",
    "If we include isospin, we can apply $\\tau$ operators too."
   ]
  },
  {
   "cell_type": "code",
   "execution_count": 21,
   "metadata": {},
   "outputs": [
    {
     "name": "stdout",
     "output_type": "stream",
     "text": [
      "HilbertOperator\n",
      "Re=\n",
      "[[ 0.  0.  0.  0.  1.  0.  0.  0.  0.  0.  0.  0.  0.  0.  0.  0.]\n",
      " [ 0.  0.  0.  0.  0.  1.  0.  0.  0.  0.  0.  0.  0.  0.  0.  0.]\n",
      " [ 0.  0.  0.  0.  0.  0. -1.  0.  0.  0.  0.  0.  0.  0.  0.  0.]\n",
      " [ 0.  0.  0.  0.  0.  0.  0. -1.  0.  0.  0.  0.  0.  0.  0.  0.]\n",
      " [ 1.  0.  0.  0.  0.  0.  0.  0.  0.  0.  0.  0.  0.  0.  0.  0.]\n",
      " [ 0.  1.  0.  0.  0.  0.  0.  0.  0.  0.  0.  0.  0.  0.  0.  0.]\n",
      " [ 0.  0. -1.  0.  0.  0.  0.  0.  0.  0.  0.  0.  0.  0.  0.  0.]\n",
      " [ 0.  0.  0. -1.  0.  0.  0.  0.  0.  0.  0.  0.  0.  0.  0.  0.]\n",
      " [ 0.  0.  0.  0.  0.  0.  0.  0.  0.  0.  0.  0.  1.  0.  0.  0.]\n",
      " [ 0.  0.  0.  0.  0.  0.  0.  0.  0.  0.  0.  0.  0.  1.  0.  0.]\n",
      " [ 0.  0.  0.  0.  0.  0.  0.  0.  0.  0.  0.  0.  0.  0. -1.  0.]\n",
      " [ 0.  0.  0.  0.  0.  0.  0.  0.  0.  0.  0.  0.  0.  0.  0. -1.]\n",
      " [ 0.  0.  0.  0.  0.  0.  0.  0.  1.  0.  0.  0.  0.  0.  0.  0.]\n",
      " [ 0.  0.  0.  0.  0.  0.  0.  0.  0.  1.  0.  0.  0.  0.  0.  0.]\n",
      " [ 0.  0.  0.  0.  0.  0.  0.  0.  0.  0. -1.  0.  0.  0.  0.  0.]\n",
      " [ 0.  0.  0.  0.  0.  0.  0.  0.  0.  0.  0. -1.  0.  0.  0.  0.]]\n",
      "Im:\n",
      "[[0. 0. 0. 0. 0. 0. 0. 0. 0. 0. 0. 0. 0. 0. 0. 0.]\n",
      " [0. 0. 0. 0. 0. 0. 0. 0. 0. 0. 0. 0. 0. 0. 0. 0.]\n",
      " [0. 0. 0. 0. 0. 0. 0. 0. 0. 0. 0. 0. 0. 0. 0. 0.]\n",
      " [0. 0. 0. 0. 0. 0. 0. 0. 0. 0. 0. 0. 0. 0. 0. 0.]\n",
      " [0. 0. 0. 0. 0. 0. 0. 0. 0. 0. 0. 0. 0. 0. 0. 0.]\n",
      " [0. 0. 0. 0. 0. 0. 0. 0. 0. 0. 0. 0. 0. 0. 0. 0.]\n",
      " [0. 0. 0. 0. 0. 0. 0. 0. 0. 0. 0. 0. 0. 0. 0. 0.]\n",
      " [0. 0. 0. 0. 0. 0. 0. 0. 0. 0. 0. 0. 0. 0. 0. 0.]\n",
      " [0. 0. 0. 0. 0. 0. 0. 0. 0. 0. 0. 0. 0. 0. 0. 0.]\n",
      " [0. 0. 0. 0. 0. 0. 0. 0. 0. 0. 0. 0. 0. 0. 0. 0.]\n",
      " [0. 0. 0. 0. 0. 0. 0. 0. 0. 0. 0. 0. 0. 0. 0. 0.]\n",
      " [0. 0. 0. 0. 0. 0. 0. 0. 0. 0. 0. 0. 0. 0. 0. 0.]\n",
      " [0. 0. 0. 0. 0. 0. 0. 0. 0. 0. 0. 0. 0. 0. 0. 0.]\n",
      " [0. 0. 0. 0. 0. 0. 0. 0. 0. 0. 0. 0. 0. 0. 0. 0.]\n",
      " [0. 0. 0. 0. 0. 0. 0. 0. 0. 0. 0. 0. 0. 0. 0. 0.]\n",
      " [0. 0. 0. 0. 0. 0. 0. 0. 0. 0. 0. 0. 0. 0. 0. 0.]]\n"
     ]
    }
   ],
   "source": [
    "operator = HilbertOperator(n_particles=2, isospin=True).apply_sigma(particle_index=0, dimension=0).apply_tau(particle_index=1,dimension=2)\n",
    "print(operator)"
   ]
  },
  {
   "cell_type": "markdown",
   "metadata": {},
   "source": [
    "In the tensor product space formalism, this is $\\hat{\\sigma}_{x} \\otimes \\hat{\\tau}_z := \\hat{\\sigma}_{1x}\\hat{\\tau}_{2z}$. \n",
    "\n",
    "In the full Hilbert space, states and operators can be added together to produce states and operators respectively. This is not the case with `ProductState` and `ProductOperator`, which I will get to later.\n",
    "\n",
    "Let's construct the two-body spin interaction operator for our two particles: $\\vec{\\sigma}_1 \\cdot \\vec{\\sigma}_2$."
   ]
  },
  {
   "cell_type": "code",
   "execution_count": 22,
   "metadata": {},
   "outputs": [
    {
     "name": "stdout",
     "output_type": "stream",
     "text": [
      "HilbertOperator\n",
      "Re=\n",
      "[[ 1.  0.  0.  0.]\n",
      " [ 0. -1.  2.  0.]\n",
      " [ 0.  2. -1.  0.]\n",
      " [ 0.  0.  0.  1.]]\n",
      "Im:\n",
      "[[0. 0. 0. 0.]\n",
      " [0. 0. 0. 0.]\n",
      " [0. 0. 0. 0.]\n",
      " [0. 0. 0. 0.]]\n"
     ]
    }
   ],
   "source": [
    "si_dot_sj = HilbertOperator(n_particles=2,isospin=False).zero()\n",
    "for dimension in (0,1,2):\n",
    "    si_dot_sj += HilbertOperator(n_particles=2,isospin=False).apply_sigma(0,dimension).apply_sigma(1,dimension)\n",
    "\n",
    "print(si_dot_sj)"
   ]
  },
  {
   "cell_type": "markdown",
   "metadata": {},
   "source": [
    "We can use the built-in `.exp()` method to exponentiate a `HilbertOperator` via Pade approximant. For instance, making an imaginary-time propagator object from $\\vec{\\sigma}_1 \\cdot \\vec{\\sigma}_2$ might look something like "
   ]
  },
  {
   "cell_type": "code",
   "execution_count": 27,
   "metadata": {},
   "outputs": [
    {
     "name": "stdout",
     "output_type": "stream",
     "text": [
      "HilbertOperator\n",
      "Re=\n",
      "[[0.99500417 0.         0.         0.        ]\n",
      " [0.         0.97517033 0.01983384 0.        ]\n",
      " [0.         0.01983384 0.97517033 0.        ]\n",
      " [0.         0.         0.         0.99500417]]\n",
      "Im:\n",
      "[[-0.09983342  0.          0.          0.        ]\n",
      " [ 0.          0.0978434  -0.19767681  0.        ]\n",
      " [ 0.         -0.19767681  0.0978434   0.        ]\n",
      " [ 0.          0.          0.         -0.09983342]]\n"
     ]
    }
   ],
   "source": [
    "delta_tau = 0.1j\n",
    "propagator = si_dot_sj.scale(-delta_tau).exp()\n",
    "print(propagator)"
   ]
  },
  {
   "cell_type": "markdown",
   "metadata": {},
   "source": [
    "However, `spinbox` has classes for propagators, so you probably want to use those instead."
   ]
  }
 ],
 "metadata": {
  "kernelspec": {
   "display_name": ".venv",
   "language": "python",
   "name": "python3"
  },
  "language_info": {
   "codemirror_mode": {
    "name": "ipython",
    "version": 3
   },
   "file_extension": ".py",
   "mimetype": "text/x-python",
   "name": "python",
   "nbconvert_exporter": "python",
   "pygments_lexer": "ipython3",
   "version": "3.11.4"
  }
 },
 "nbformat": 4,
 "nbformat_minor": 2
}
