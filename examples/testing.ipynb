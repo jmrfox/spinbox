{
 "cells": [
  {
   "cell_type": "code",
   "execution_count": 1,
   "metadata": {},
   "outputs": [],
   "source": [
    "from spinbox import *"
   ]
  },
  {
   "cell_type": "code",
   "execution_count": 2,
   "metadata": {},
   "outputs": [
    {
     "name": "stdout",
     "output_type": "stream",
     "text": [
      "[[[[ 0.         -0.13210486]\n",
      "   [ 0.          0.10490012]\n",
      "   [ 0.          0.36159505]]\n",
      "\n",
      "  [[-0.13210486  0.        ]\n",
      "   [ 0.10490012  0.        ]\n",
      "   [ 0.36159505  0.        ]]]\n",
      "\n",
      "\n",
      " [[[ 0.         -0.21879166]\n",
      "   [ 0.         -0.73226735]\n",
      "   [ 0.         -0.31630016]]\n",
      "\n",
      "  [[-0.21879166  0.        ]\n",
      "   [-0.73226735  0.        ]\n",
      "   [-0.31630016  0.        ]]]\n",
      "\n",
      "\n",
      " [[[ 0.          0.0940123 ]\n",
      "   [ 0.         -0.92172538]\n",
      "   [ 0.          0.22019512]]\n",
      "\n",
      "  [[ 0.0940123   0.        ]\n",
      "   [-0.92172538  0.        ]\n",
      "   [ 0.22019512  0.        ]]]]\n"
     ]
    }
   ],
   "source": [
    "A=2\n",
    "dt = 0.001\n",
    "isospin= False\n",
    "seed = 0\n",
    "\n",
    "s_p = ProductState(A, isospin=isospin).randomize(seed=seed)\n",
    "s_h = s_p.copy().to_manybody_basis()\n",
    "# prop_h = HilbertPropagatorHS(A, dt, isospin=isospin)\n",
    "# prop_p = ProductPropagatorHS(A, dt, isospin=isospin)\n",
    "prop_h = HilbertPropagatorRBM(A, dt, isospin=isospin)\n",
    "prop_p = ProductPropagatorRBM(A, dt, isospin=isospin)\n",
    "\n",
    "pot = NuclearPotential(A)\n",
    "pot.sigma.random(1.0, seed=seed)\n",
    "print(pot.sigma)"
   ]
  },
  {
   "cell_type": "code",
   "execution_count": 3,
   "metadata": {},
   "outputs": [],
   "source": [
    "aux = np.random.randn(prop_h.n_aux_sigma)\n",
    "prop_list_h = prop_h.factors_sigma(pot.sigma, aux=aux)\n",
    "prop_list_p = prop_p.factors_sigma(pot.sigma, aux=aux)\n",
    "\n",
    "s_h_prop = np.prod(prop_list_h) * s_h\n",
    "s_p_prop = np.prod(prop_list_p) * s_p"
   ]
  },
  {
   "cell_type": "code",
   "execution_count": 4,
   "metadata": {},
   "outputs": [
    {
     "name": "stdout",
     "output_type": "stream",
     "text": [
      "HilbertState ket of 2 particles:\n",
      "[[ 0.68859759-0.19680746j]\n",
      " [ 0.44850489+0.10759192j]\n",
      " [-0.50125287+0.07302752j]\n",
      " [-0.3042488 -0.1177117j ]]\n",
      "HilbertState ket of 2 particles:\n",
      "[[ 0.68859759-0.19680746j]\n",
      " [ 0.44850489+0.10759192j]\n",
      " [-0.50125287+0.07302752j]\n",
      " [-0.3042488 -0.1177117j ]]\n"
     ]
    }
   ],
   "source": [
    "print(s_h_prop)\n",
    "print(s_p_prop.to_manybody_basis())"
   ]
  },
  {
   "cell_type": "code",
   "execution_count": null,
   "metadata": {},
   "outputs": [],
   "source": []
  },
  {
   "cell_type": "code",
   "execution_count": null,
   "metadata": {},
   "outputs": [],
   "source": []
  },
  {
   "cell_type": "code",
   "execution_count": null,
   "metadata": {},
   "outputs": [],
   "source": []
  }
 ],
 "metadata": {
  "kernelspec": {
   "display_name": "aint",
   "language": "python",
   "name": "python3"
  },
  "language_info": {
   "codemirror_mode": {
    "name": "ipython",
    "version": 3
   },
   "file_extension": ".py",
   "mimetype": "text/x-python",
   "name": "python",
   "nbconvert_exporter": "python",
   "pygments_lexer": "ipython3",
   "version": "3.11.0"
  }
 },
 "nbformat": 4,
 "nbformat_minor": 2
}
