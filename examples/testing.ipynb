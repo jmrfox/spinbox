{
 "cells": [
  {
   "cell_type": "code",
   "execution_count": 2,
   "metadata": {},
   "outputs": [],
   "source": [
    "from spinbox import *"
   ]
  },
  {
   "cell_type": "code",
   "execution_count": 3,
   "metadata": {},
   "outputs": [
    {
     "name": "stdout",
     "output_type": "stream",
     "text": [
      "< fin | Pij | ini > =  (0.5753177983397733-0.1221715267641641j)\n",
      "(1 + < fin | si.sj | ini > ) / 2 =  [[0.5753178-0.12217153j]]\n"
     ]
    }
   ],
   "source": [
    "# 2Pij-1 = si dot sj\n",
    "# is there an equivalent expression which exchanges spin and isospin?\n",
    "A=2\n",
    "isospin=False\n",
    "\n",
    "s_ini = ProductState(A, isospin=isospin).randomize(101)\n",
    "s_fin = ProductState(A, isospin=isospin, ketwise=False).randomize(102)\n",
    "\n",
    "def sdots(i,j):\n",
    "    out = HilbertOperator(A,isospin=isospin).zero()\n",
    "    for a in range(3):\n",
    "        out += HilbertOperator(A,isospin=isospin).apply_sigma(i,a).apply_sigma(j,a)\n",
    "    return out\n",
    "\n",
    "\n",
    "# print(\"< fin | si.sj | ini > = \", s_fin.to_manybody_basis() * (sdots(0,1) * s_ini.to_manybody_basis()))\n",
    "\n",
    "def exch(state,i,j):\n",
    "    out = state.copy()\n",
    "    temp = state.coefficients[i].copy()\n",
    "    out.coefficients[i] = out.coefficients[j].copy()\n",
    "    out.coefficients[j] = temp.copy()\n",
    "    return out\n",
    "\n",
    "def eq_exch(i,j):\n",
    "    sidotsj = sdots(i,j)\n",
    "    one = HilbertOperator(A,isospin=isospin)\n",
    "    return (one + sidotsj).scale(0.5)\n",
    "\n",
    "print(\"< fin | Pij | ini > = \", s_fin * exch(s_ini,0,1))\n",
    "b = s_fin.to_manybody_basis() * (eq_exch(0,1) * s_ini.to_manybody_basis())\n",
    "print(\"(1 + < fin | si.sj | ini > ) / 2 = \", b)"
   ]
  },
  {
   "cell_type": "code",
   "execution_count": 5,
   "metadata": {},
   "outputs": [
    {
     "name": "stdout",
     "output_type": "stream",
     "text": [
      "< fin | Pij | ini > =  (-0.06874034622326577-0.15463787912891488j)\n",
      " < fin | trace | ini > ) =  [[-0.06874035-0.15463788j]]\n"
     ]
    }
   ],
   "source": [
    "# 2Pij-1 = si dot sj\n",
    "# is there an equivalent expression which exchanges spin and isospin?\n",
    "A=2\n",
    "isospin=True\n",
    "\n",
    "s_ini = ProductState(A, isospin=isospin).randomize(101)\n",
    "s_fin = ProductState(A, isospin=isospin, ketwise=False).randomize(102)\n",
    "\n",
    "def trace_over_algebra(i,j):\n",
    "    out = HilbertOperator(A,isospin=isospin)\n",
    "    for a in range(3):\n",
    "        out += HilbertOperator(A,isospin=isospin).apply_sigma(i,a).apply_sigma(j,a)\n",
    "    for a in range(3):\n",
    "        out += HilbertOperator(A,isospin=isospin).apply_tau(i,a).apply_tau(j,a)\n",
    "    for a in range(3):\n",
    "        for b in range(3):\n",
    "            out += HilbertOperator(A,isospin=isospin).apply_sigma(i,a).apply_tau(i,b).apply_sigma(j,a).apply_tau(j,b)    \n",
    "    return out\n",
    "\n",
    "# print(\"< fin | si.sj | ini > = \", s_fin.to_manybody_basis() * (sdots(0,1) * s_ini.to_manybody_basis()))\n",
    "\n",
    "def exchange(state,i,j):\n",
    "    out = state.copy()\n",
    "    temp = state.coefficients[i].copy()\n",
    "    out.coefficients[i] = out.coefficients[j].copy()\n",
    "    out.coefficients[j] = temp.copy()\n",
    "    return out\n",
    "\n",
    "print(\"< fin | Pij | ini > = \", s_fin * exchange(s_ini,0,1))\n",
    "b = s_fin.to_manybody_basis() * (trace_over_algebra(0,1) * s_ini.to_manybody_basis())\n",
    "print(\" < fin | trace | ini > ) = \", b/4)"
   ]
  },
  {
   "cell_type": "code",
   "execution_count": 2,
   "metadata": {},
   "outputs": [
    {
     "name": "stdout",
     "output_type": "stream",
     "text": [
      "[[[[ 0.         -0.13210486]\n",
      "   [ 0.          0.10490012]\n",
      "   [ 0.          0.36159505]]\n",
      "\n",
      "  [[-0.13210486  0.        ]\n",
      "   [ 0.10490012  0.        ]\n",
      "   [ 0.36159505  0.        ]]]\n",
      "\n",
      "\n",
      " [[[ 0.         -0.21879166]\n",
      "   [ 0.         -0.73226735]\n",
      "   [ 0.         -0.31630016]]\n",
      "\n",
      "  [[-0.21879166  0.        ]\n",
      "   [-0.73226735  0.        ]\n",
      "   [-0.31630016  0.        ]]]\n",
      "\n",
      "\n",
      " [[[ 0.          0.0940123 ]\n",
      "   [ 0.         -0.92172538]\n",
      "   [ 0.          0.22019512]]\n",
      "\n",
      "  [[ 0.0940123   0.        ]\n",
      "   [-0.92172538  0.        ]\n",
      "   [ 0.22019512  0.        ]]]]\n"
     ]
    }
   ],
   "source": [
    "A=2\n",
    "dt = 0.001\n",
    "isospin= False\n",
    "seed = 0\n",
    "\n",
    "s_p = ProductState(A, isospin=isospin).randomize(seed=seed)\n",
    "s_h = s_p.copy().to_manybody_basis()\n",
    "# prop_h = HilbertPropagatorHS(A, dt, isospin=isospin)\n",
    "# prop_p = ProductPropagatorHS(A, dt, isospin=isospin)\n",
    "prop_h = HilbertPropagatorRBM(A, dt, isospin=isospin)\n",
    "prop_p = ProductPropagatorRBM(A, dt, isospin=isospin)\n",
    "\n",
    "pot = NuclearPotential(A)\n",
    "pot.sigma.random(1.0, seed=seed)\n",
    "print(pot.sigma)"
   ]
  },
  {
   "cell_type": "code",
   "execution_count": 3,
   "metadata": {},
   "outputs": [],
   "source": [
    "aux = np.random.randn(prop_h.n_aux_sigma)\n",
    "prop_list_h = prop_h.factors_sigma(pot.sigma, aux=aux)\n",
    "prop_list_p = prop_p.factors_sigma(pot.sigma, aux=aux)\n",
    "\n",
    "s_h_prop = np.prod(prop_list_h) * s_h\n",
    "s_p_prop = np.prod(prop_list_p) * s_p"
   ]
  },
  {
   "cell_type": "code",
   "execution_count": 4,
   "metadata": {},
   "outputs": [
    {
     "name": "stdout",
     "output_type": "stream",
     "text": [
      "HilbertState ket of 2 particles:\n",
      "[[ 0.68859759-0.19680746j]\n",
      " [ 0.44850489+0.10759192j]\n",
      " [-0.50125287+0.07302752j]\n",
      " [-0.3042488 -0.1177117j ]]\n",
      "HilbertState ket of 2 particles:\n",
      "[[ 0.68859759-0.19680746j]\n",
      " [ 0.44850489+0.10759192j]\n",
      " [-0.50125287+0.07302752j]\n",
      " [-0.3042488 -0.1177117j ]]\n"
     ]
    }
   ],
   "source": [
    "print(s_h_prop)\n",
    "print(s_p_prop.to_manybody_basis())"
   ]
  },
  {
   "cell_type": "code",
   "execution_count": null,
   "metadata": {},
   "outputs": [],
   "source": []
  },
  {
   "cell_type": "code",
   "execution_count": null,
   "metadata": {},
   "outputs": [],
   "source": []
  },
  {
   "cell_type": "code",
   "execution_count": null,
   "metadata": {},
   "outputs": [],
   "source": []
  }
 ],
 "metadata": {
  "kernelspec": {
   "display_name": "aint",
   "language": "python",
   "name": "python3"
  },
  "language_info": {
   "codemirror_mode": {
    "name": "ipython",
    "version": 3
   },
   "file_extension": ".py",
   "mimetype": "text/x-python",
   "name": "python",
   "nbconvert_exporter": "python",
   "pygments_lexer": "ipython3",
   "version": "3.11.0"
  }
 },
 "nbformat": 4,
 "nbformat_minor": 2
}
